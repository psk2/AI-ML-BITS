{
 "cells": [
  {
   "cell_type": "code",
   "execution_count": 1,
   "metadata": {},
   "outputs": [
    {
     "data": {
      "text/plain": [
       "{'divide': 'warn', 'over': 'warn', 'under': 'ignore', 'invalid': 'warn'}"
      ]
     },
     "execution_count": 1,
     "metadata": {},
     "output_type": "execute_result"
    }
   ],
   "source": [
    "import pandas as pd\n",
    "from collections import Counter\n",
    "import numpy as np\n",
    "np.seterr(divide='ignore', invalid='ignore')"
   ]
  },
  {
   "cell_type": "code",
   "execution_count": 2,
   "metadata": {},
   "outputs": [],
   "source": [
    "# Data is being read from internet\n",
    "iris = pd.read_csv('http://archive.ics.uci.edu/ml/machine-learning-databases/iris/iris.data', header=None)"
   ]
  },
  {
   "cell_type": "code",
   "execution_count": 3,
   "metadata": {},
   "outputs": [],
   "source": [
    "# Adding our own header as describted in iris.data from the reference link provided.\n",
    "iris.columns = ['sepal_l', 'sepal_w', 'petal_l', 'petal_w', 'type']"
   ]
  },
  {
   "cell_type": "code",
   "execution_count": 4,
   "metadata": {},
   "outputs": [
    {
     "data": {
      "text/html": [
       "<div>\n",
       "<style scoped>\n",
       "    .dataframe tbody tr th:only-of-type {\n",
       "        vertical-align: middle;\n",
       "    }\n",
       "\n",
       "    .dataframe tbody tr th {\n",
       "        vertical-align: top;\n",
       "    }\n",
       "\n",
       "    .dataframe thead th {\n",
       "        text-align: right;\n",
       "    }\n",
       "</style>\n",
       "<table border=\"1\" class=\"dataframe\">\n",
       "  <thead>\n",
       "    <tr style=\"text-align: right;\">\n",
       "      <th></th>\n",
       "      <th>sepal_l</th>\n",
       "      <th>sepal_w</th>\n",
       "      <th>petal_l</th>\n",
       "      <th>petal_w</th>\n",
       "    </tr>\n",
       "  </thead>\n",
       "  <tbody>\n",
       "    <tr>\n",
       "      <th>count</th>\n",
       "      <td>150.000000</td>\n",
       "      <td>150.000000</td>\n",
       "      <td>150.000000</td>\n",
       "      <td>150.000000</td>\n",
       "    </tr>\n",
       "    <tr>\n",
       "      <th>mean</th>\n",
       "      <td>5.843333</td>\n",
       "      <td>3.054000</td>\n",
       "      <td>3.758667</td>\n",
       "      <td>1.198667</td>\n",
       "    </tr>\n",
       "    <tr>\n",
       "      <th>std</th>\n",
       "      <td>0.828066</td>\n",
       "      <td>0.433594</td>\n",
       "      <td>1.764420</td>\n",
       "      <td>0.763161</td>\n",
       "    </tr>\n",
       "    <tr>\n",
       "      <th>min</th>\n",
       "      <td>4.300000</td>\n",
       "      <td>2.000000</td>\n",
       "      <td>1.000000</td>\n",
       "      <td>0.100000</td>\n",
       "    </tr>\n",
       "    <tr>\n",
       "      <th>25%</th>\n",
       "      <td>5.100000</td>\n",
       "      <td>2.800000</td>\n",
       "      <td>1.600000</td>\n",
       "      <td>0.300000</td>\n",
       "    </tr>\n",
       "    <tr>\n",
       "      <th>50%</th>\n",
       "      <td>5.800000</td>\n",
       "      <td>3.000000</td>\n",
       "      <td>4.350000</td>\n",
       "      <td>1.300000</td>\n",
       "    </tr>\n",
       "    <tr>\n",
       "      <th>75%</th>\n",
       "      <td>6.400000</td>\n",
       "      <td>3.300000</td>\n",
       "      <td>5.100000</td>\n",
       "      <td>1.800000</td>\n",
       "    </tr>\n",
       "    <tr>\n",
       "      <th>max</th>\n",
       "      <td>7.900000</td>\n",
       "      <td>4.400000</td>\n",
       "      <td>6.900000</td>\n",
       "      <td>2.500000</td>\n",
       "    </tr>\n",
       "  </tbody>\n",
       "</table>\n",
       "</div>"
      ],
      "text/plain": [
       "          sepal_l     sepal_w     petal_l     petal_w\n",
       "count  150.000000  150.000000  150.000000  150.000000\n",
       "mean     5.843333    3.054000    3.758667    1.198667\n",
       "std      0.828066    0.433594    1.764420    0.763161\n",
       "min      4.300000    2.000000    1.000000    0.100000\n",
       "25%      5.100000    2.800000    1.600000    0.300000\n",
       "50%      5.800000    3.000000    4.350000    1.300000\n",
       "75%      6.400000    3.300000    5.100000    1.800000\n",
       "max      7.900000    4.400000    6.900000    2.500000"
      ]
     },
     "execution_count": 4,
     "metadata": {},
     "output_type": "execute_result"
    }
   ],
   "source": [
    "iris.describe()"
   ]
  },
  {
   "cell_type": "code",
   "execution_count": 10,
   "metadata": {},
   "outputs": [],
   "source": [
    "# Function for calculating new merge intervals.\n",
    "def calculateMergeIntervals(merge_intervals,min_index):\n",
    "    new_merge_intervals = [] # Prepare for the merged new input array\n",
    "    skip = False\n",
    "    done = False\n",
    "    for i in range(len(merge_intervals)):\n",
    "        if skip:\n",
    "            skip = False\n",
    "            continue\n",
    "        if i == min_index and not done: # Merge the merge_intervals\n",
    "            t = merge_intervals[i] + merge_intervals[i+1]\n",
    "            new_merge_intervals.append([min(t), max(t)])\n",
    "            skip = True\n",
    "            done = True\n",
    "        else:\n",
    "            new_merge_intervals.append(merge_intervals[i])\n",
    "    return new_merge_intervals\n",
    "\n",
    "\"\"\"Chi Merge function that merge the adjacent least chi-square values till the \n",
    "    required stopping criteria is met.\n",
    "    \n",
    "    In this algorithm, we merge every 2 adjacent least chi-squared intervals.\n",
    "\"\"\"      \n",
    "\n",
    "def chi_merge(input, features, data_label, maximum_intervals):\n",
    "    # sorts the distinct values from features.\n",
    "    dist_values = sorted(set(input[features])) \n",
    "    # Get all possible data_labels like ['Iris-setosa', 'Iris-versicolor', 'Iris-virginica']\n",
    "    data_labels = sorted(set(input[data_label]))\n",
    "    # Counter() is for padding which is a Helper function\n",
    "    empty_values_counter = {l: 0 for l in data_labels} \n",
    "    # for each feature initialize the merge_intervals \n",
    "    merge_intervals = [[dist_values[i], dist_values[i]] for i in range(len(dist_values))]\n",
    "    # While loop --- maximum_intervals = stop criteria i.e., 6.\n",
    "    while len(merge_intervals) > maximum_intervals: \n",
    "        chiSquare = []\n",
    "        for i in range(len(merge_intervals)-1):\n",
    "            # Calculating the Chi-square value\n",
    "            observation1 = input[input[features].between(merge_intervals[i][0], merge_intervals[i][1])]\n",
    "            observation2 = input[input[features].between(merge_intervals[i+1][0], merge_intervals[i+1][1])]\n",
    "            total = len(observation1) + len(observation2)\n",
    "            count1 = np.array([v for i, v in {**empty_values_counter, **Counter(observation1[data_label])}.items()])\n",
    "            count2 = np.array([v for i, v in {**empty_values_counter, **Counter(observation2[data_label])}.items()])\n",
    "            count_total = count1 + count2\n",
    "            expected1 = count_total*sum(count1)/total\n",
    "            expected2 = count_total*sum(count2)/total\n",
    "            # performing Chi-Square computation. (observation-expected)2/expected.             \n",
    "            chiValue = (count1 - expected1)**2/expected1 + (count2 - expected2)**2/expected2\n",
    "            # To deal with counts that are ZERO\n",
    "            chiValue = np.nan_to_num(chiValue) \n",
    "            # Here we do the Chi-square summation\n",
    "            chiSquare.append(sum(chiValue)) \n",
    "        # Find the minimal Chi-square value for current iteration\n",
    "        min_chi = min(chiSquare) \n",
    "        for i, v in enumerate(chiSquare):\n",
    "            if v == min_chi:\n",
    "                # Find the index of the interval to be merged\n",
    "                min_index = i \n",
    "                break\n",
    "        # Calculating the new intervals.\n",
    "        merge_intervals = calculateMergeIntervals(merge_intervals,min_index)\n",
    "    for i in merge_intervals:\n",
    "        print('[', i[0], ',', i[1], ']', sep='')"
   ]
  },
  {
   "cell_type": "code",
   "execution_count": 11,
   "metadata": {},
   "outputs": [
    {
     "name": "stdout",
     "output_type": "stream",
     "text": [
      "======================================\n",
      "After CHIMERGE intervals for SEPAL_L\n",
      "======================================\n",
      "[4.3,4.8]\n",
      "[4.9,4.9]\n",
      "[5.0,5.4]\n",
      "[5.5,5.7]\n",
      "[5.8,7.0]\n",
      "[7.1,7.9]\n",
      "======================================\n",
      "After CHIMERGE intervals for SEPAL_W\n",
      "======================================\n",
      "[2.0,2.2]\n",
      "[2.3,2.4]\n",
      "[2.5,2.8]\n",
      "[2.9,2.9]\n",
      "[3.0,3.3]\n",
      "[3.4,4.4]\n",
      "======================================\n",
      "After CHIMERGE intervals for PETAL_L\n",
      "======================================\n",
      "[1.0,1.9]\n",
      "[3.0,4.4]\n",
      "[4.5,4.7]\n",
      "[4.8,4.9]\n",
      "[5.0,5.1]\n",
      "[5.2,6.9]\n",
      "======================================\n",
      "After CHIMERGE intervals for PETAL_W\n",
      "======================================\n",
      "[0.1,0.6]\n",
      "[1.0,1.3]\n",
      "[1.4,1.6]\n",
      "[1.7,1.7]\n",
      "[1.8,1.8]\n",
      "[1.9,2.5]\n"
     ]
    }
   ],
   "source": [
    "for attribute in ['sepal_l', 'sepal_w', 'petal_l', 'petal_w']:\n",
    "    print(\"======================================\")\n",
    "    print('After CHIMERGE intervals for', attribute.upper())\n",
    "    print(\"======================================\")\n",
    "    chi_merge(input=iris, features=attribute, data_label='type', maximum_intervals=6)"
   ]
  },
  {
   "cell_type": "code",
   "execution_count": null,
   "metadata": {},
   "outputs": [],
   "source": []
  }
 ],
 "metadata": {
  "kernelspec": {
   "display_name": "Python 3",
   "language": "python",
   "name": "python3"
  },
  "language_info": {
   "codemirror_mode": {
    "name": "ipython",
    "version": 3
   },
   "file_extension": ".py",
   "mimetype": "text/x-python",
   "name": "python",
   "nbconvert_exporter": "python",
   "pygments_lexer": "ipython3",
   "version": "3.6.9"
  }
 },
 "nbformat": 4,
 "nbformat_minor": 4
}

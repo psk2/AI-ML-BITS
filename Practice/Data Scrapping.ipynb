{
 "cells": [
  {
   "cell_type": "code",
   "execution_count": 1,
   "metadata": {},
   "outputs": [],
   "source": [
    "from bs4 import BeautifulSoup\n",
    "from urllib.request import urlopen as urlRequest\n",
    "import pandas as pd\n",
    "import numpy as np"
   ]
  },
  {
   "cell_type": "code",
   "execution_count": 3,
   "metadata": {
    "scrolled": true
   },
   "outputs": [
    {
     "name": "stdout",
     "output_type": "stream",
     "text": [
      "1\n",
      "2\n",
      "100\n"
     ]
    }
   ],
   "source": [
    "products = [];\n",
    "store_products = []\n",
    "page_number = 2\n",
    "for i in range(page_number):\n",
    "    print(i+1)\n",
    "    url = \"https://www.amazon.in/gp/bestsellers/grocery/ref=zg_bs_pg_1?ie=UTF8&pg=\"+str(i+1)\n",
    "    client = urlRequest(url)\n",
    "    html = client.read()\n",
    "    client.close()\n",
    "    soup = BeautifulSoup(html,\"html.parser\")\n",
    "    containers = soup.findAll(\"li\", {\"class\":\"zg-item-immersion\"})\n",
    "    \n",
    "    for container in containers:\n",
    "        products.append(container)\n",
    "for product in products:\n",
    "    product_name_tag = product.find(\"a\",{\"class\":\"a-link-normal\"})\n",
    "    product_name = product_name_tag.text.strip()\n",
    "#     print(\"=========================================================================================\")\n",
    "#     print(\"Name : \",product_name)\n",
    "    \n",
    "    product_rating_tag = product.find(\"span\",{\"class\":\"a-icon-alt\"})\n",
    "    product_rating = product_rating_tag.text.split(\" \")[0]\n",
    "#     print(\"Rating : \",product_rating)\n",
    "    \n",
    "    product_price_tag = product.find(\"span\",{\"class\":\"p13n-sc-price\"})\n",
    "    product_price = product_price_tag.text.split(\"₹\")[1].replace(u'\\xa0', u'')\n",
    "#     print(\"Price : \",product_price.replace(u'\\xa0', u' '))\n",
    "    \n",
    "    product_total_ratings_tag = product.find(\"a\",{\"class\":\"a-size-small a-link-normal\"})\n",
    "    product_total_ratings = product_total_ratings_tag.text.replace(',', '')\n",
    "#     print(\"product_total_ratings : \",product_total_ratings)\n",
    "    \n",
    "    product_image_src = product.div.img[\"src\"]\n",
    "    \n",
    "    store_product = [product_name,product_rating,product_price,product_total_ratings,product_image_src]\n",
    "    store_products.append(store_product)\n",
    "print(len(store_products))\n",
    "# results[0]"
   ]
  },
  {
   "cell_type": "code",
   "execution_count": null,
   "metadata": {},
   "outputs": [],
   "source": [
    "header = ['Product', 'Rating', 'Price', 'TotalRatings', 'itemURL']\n",
    "my_df = pd.DataFrame(store_products, columns=header)\n",
    "my_df.head()\n",
    "my_df.to_csv('groceries.csv', index=False, header=True)\n"
   ]
  },
  {
   "cell_type": "code",
   "execution_count": null,
   "metadata": {
    "scrolled": true
   },
   "outputs": [],
   "source": [
    "df = pd.read_csv(\"groceries.csv\");\n",
    "df.head()"
   ]
  }
 ],
 "metadata": {
  "kernelspec": {
   "display_name": "Python 3",
   "language": "python",
   "name": "python3"
  },
  "language_info": {
   "codemirror_mode": {
    "name": "ipython",
    "version": 3
   },
   "file_extension": ".py",
   "mimetype": "text/x-python",
   "name": "python",
   "nbconvert_exporter": "python",
   "pygments_lexer": "ipython3",
   "version": "3.6.9"
  }
 },
 "nbformat": 4,
 "nbformat_minor": 4
}

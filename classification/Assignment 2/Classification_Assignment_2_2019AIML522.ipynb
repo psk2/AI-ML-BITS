{
 "cells": [
  {
   "cell_type": "code",
   "execution_count": 1,
   "metadata": {},
   "outputs": [
    {
     "data": {
      "text/plain": [
       "{'divide': 'warn', 'over': 'warn', 'under': 'ignore', 'invalid': 'warn'}"
      ]
     },
     "execution_count": 1,
     "metadata": {},
     "output_type": "execute_result"
    }
   ],
   "source": [
    "import pandas as pd  # pandas module for data manipulation\n",
    "import matplotlib.pyplot as plt # module for plotting\n",
    "import seaborn as sns # another module for plotting\n",
    "import numpy as np\n",
    "from sklearn.naive_bayes import GaussianNB #Import Library of Gaussian Naive Bayes model\n",
    "from sklearn.metrics import confusion_matrix #import confusion_matrix\n",
    "from sklearn.model_selection import train_test_split \n",
    "from sklearn.metrics import f1_score\n",
    "from sklearn.metrics import accuracy_score\n",
    "from sklearn.metrics import roc_auc_score\n",
    "from sklearn.metrics import classification_report\n",
    "from sklearn.preprocessing import StandardScaler #fot standardidazation\n",
    "from sklearn.model_selection import GridSearchCV #import GridSearchCV\n",
    "from sklearn.linear_model import LogisticRegression\n",
    "from sklearn.model_selection import StratifiedKFold\n",
    "\n",
    "plt.style.use('ggplot')\n",
    "\n",
    "# to display the total number columns present in the dataset\n",
    "pd.set_option('display.max_columns', None)\n",
    "pd.set_option('display.max_rows', None)\n",
    "\n",
    "np.seterr(divide='ignore', invalid='ignore')"
   ]
  },
  {
   "cell_type": "code",
   "execution_count": 2,
   "metadata": {
    "scrolled": true
   },
   "outputs": [
    {
     "data": {
      "text/html": [
       "<div>\n",
       "<style scoped>\n",
       "    .dataframe tbody tr th:only-of-type {\n",
       "        vertical-align: middle;\n",
       "    }\n",
       "\n",
       "    .dataframe tbody tr th {\n",
       "        vertical-align: top;\n",
       "    }\n",
       "\n",
       "    .dataframe thead th {\n",
       "        text-align: right;\n",
       "    }\n",
       "</style>\n",
       "<table border=\"1\" class=\"dataframe\">\n",
       "  <thead>\n",
       "    <tr style=\"text-align: right;\">\n",
       "      <th></th>\n",
       "      <th>Age</th>\n",
       "      <th>Total_Bilirubin</th>\n",
       "      <th>Direct_Bilirubin</th>\n",
       "      <th>Alkaline_Phosphotase</th>\n",
       "      <th>Alamine_Aminotransferase</th>\n",
       "      <th>Aspartate_Aminotransferase</th>\n",
       "      <th>Total_Protiens</th>\n",
       "      <th>Albumin</th>\n",
       "      <th>Albumin_and_Globulin_Ratio</th>\n",
       "      <th>Dataset</th>\n",
       "    </tr>\n",
       "  </thead>\n",
       "  <tbody>\n",
       "    <tr>\n",
       "      <th>0</th>\n",
       "      <td>65</td>\n",
       "      <td>0.7</td>\n",
       "      <td>0.1</td>\n",
       "      <td>187</td>\n",
       "      <td>16</td>\n",
       "      <td>18</td>\n",
       "      <td>6.8</td>\n",
       "      <td>3.3</td>\n",
       "      <td>0.90</td>\n",
       "      <td>Yes</td>\n",
       "    </tr>\n",
       "    <tr>\n",
       "      <th>1</th>\n",
       "      <td>62</td>\n",
       "      <td>10.9</td>\n",
       "      <td>5.5</td>\n",
       "      <td>699</td>\n",
       "      <td>64</td>\n",
       "      <td>100</td>\n",
       "      <td>7.5</td>\n",
       "      <td>3.2</td>\n",
       "      <td>0.74</td>\n",
       "      <td>Yes</td>\n",
       "    </tr>\n",
       "    <tr>\n",
       "      <th>2</th>\n",
       "      <td>62</td>\n",
       "      <td>7.3</td>\n",
       "      <td>4.1</td>\n",
       "      <td>490</td>\n",
       "      <td>60</td>\n",
       "      <td>68</td>\n",
       "      <td>7.0</td>\n",
       "      <td>3.3</td>\n",
       "      <td>0.89</td>\n",
       "      <td>Yes</td>\n",
       "    </tr>\n",
       "    <tr>\n",
       "      <th>3</th>\n",
       "      <td>58</td>\n",
       "      <td>1.0</td>\n",
       "      <td>0.4</td>\n",
       "      <td>182</td>\n",
       "      <td>14</td>\n",
       "      <td>20</td>\n",
       "      <td>6.8</td>\n",
       "      <td>3.4</td>\n",
       "      <td>1.00</td>\n",
       "      <td>Yes</td>\n",
       "    </tr>\n",
       "    <tr>\n",
       "      <th>4</th>\n",
       "      <td>72</td>\n",
       "      <td>3.9</td>\n",
       "      <td>2.0</td>\n",
       "      <td>195</td>\n",
       "      <td>27</td>\n",
       "      <td>59</td>\n",
       "      <td>7.3</td>\n",
       "      <td>2.4</td>\n",
       "      <td>0.40</td>\n",
       "      <td>Yes</td>\n",
       "    </tr>\n",
       "  </tbody>\n",
       "</table>\n",
       "</div>"
      ],
      "text/plain": [
       "   Age  Total_Bilirubin  Direct_Bilirubin  Alkaline_Phosphotase  \\\n",
       "0   65              0.7               0.1                   187   \n",
       "1   62             10.9               5.5                   699   \n",
       "2   62              7.3               4.1                   490   \n",
       "3   58              1.0               0.4                   182   \n",
       "4   72              3.9               2.0                   195   \n",
       "\n",
       "   Alamine_Aminotransferase  Aspartate_Aminotransferase  Total_Protiens  \\\n",
       "0                        16                          18             6.8   \n",
       "1                        64                         100             7.5   \n",
       "2                        60                          68             7.0   \n",
       "3                        14                          20             6.8   \n",
       "4                        27                          59             7.3   \n",
       "\n",
       "   Albumin  Albumin_and_Globulin_Ratio Dataset  \n",
       "0      3.3                        0.90     Yes  \n",
       "1      3.2                        0.74     Yes  \n",
       "2      3.3                        0.89     Yes  \n",
       "3      3.4                        1.00     Yes  \n",
       "4      2.4                        0.40     Yes  "
      ]
     },
     "execution_count": 2,
     "metadata": {},
     "output_type": "execute_result"
    }
   ],
   "source": [
    "# let's load the dataset\n",
    "df = pd.read_csv('liver_disease_1.csv')\n",
    "# let's inspect the first 5 rows\n",
    "df.head()"
   ]
  },
  {
   "cell_type": "markdown",
   "metadata": {},
   "source": [
    "## Performing EDA"
   ]
  },
  {
   "cell_type": "code",
   "execution_count": 3,
   "metadata": {
    "scrolled": false
   },
   "outputs": [
    {
     "data": {
      "text/html": [
       "<div>\n",
       "<style scoped>\n",
       "    .dataframe tbody tr th:only-of-type {\n",
       "        vertical-align: middle;\n",
       "    }\n",
       "\n",
       "    .dataframe tbody tr th {\n",
       "        vertical-align: top;\n",
       "    }\n",
       "\n",
       "    .dataframe thead th {\n",
       "        text-align: right;\n",
       "    }\n",
       "</style>\n",
       "<table border=\"1\" class=\"dataframe\">\n",
       "  <thead>\n",
       "    <tr style=\"text-align: right;\">\n",
       "      <th></th>\n",
       "      <th>Age</th>\n",
       "      <th>Total_Bilirubin</th>\n",
       "      <th>Direct_Bilirubin</th>\n",
       "      <th>Alkaline_Phosphotase</th>\n",
       "      <th>Alamine_Aminotransferase</th>\n",
       "      <th>Aspartate_Aminotransferase</th>\n",
       "      <th>Total_Protiens</th>\n",
       "      <th>Albumin</th>\n",
       "      <th>Albumin_and_Globulin_Ratio</th>\n",
       "    </tr>\n",
       "  </thead>\n",
       "  <tbody>\n",
       "    <tr>\n",
       "      <th>count</th>\n",
       "      <td>583.000000</td>\n",
       "      <td>583.000000</td>\n",
       "      <td>583.000000</td>\n",
       "      <td>583.000000</td>\n",
       "      <td>583.000000</td>\n",
       "      <td>583.000000</td>\n",
       "      <td>583.000000</td>\n",
       "      <td>583.000000</td>\n",
       "      <td>579.000000</td>\n",
       "    </tr>\n",
       "    <tr>\n",
       "      <th>mean</th>\n",
       "      <td>44.746141</td>\n",
       "      <td>3.298799</td>\n",
       "      <td>1.486106</td>\n",
       "      <td>290.576329</td>\n",
       "      <td>80.713551</td>\n",
       "      <td>109.910806</td>\n",
       "      <td>6.483190</td>\n",
       "      <td>3.141852</td>\n",
       "      <td>0.947064</td>\n",
       "    </tr>\n",
       "    <tr>\n",
       "      <th>std</th>\n",
       "      <td>16.189833</td>\n",
       "      <td>6.209522</td>\n",
       "      <td>2.808498</td>\n",
       "      <td>242.937989</td>\n",
       "      <td>182.620356</td>\n",
       "      <td>288.918529</td>\n",
       "      <td>1.085451</td>\n",
       "      <td>0.795519</td>\n",
       "      <td>0.319592</td>\n",
       "    </tr>\n",
       "    <tr>\n",
       "      <th>min</th>\n",
       "      <td>4.000000</td>\n",
       "      <td>0.400000</td>\n",
       "      <td>0.100000</td>\n",
       "      <td>63.000000</td>\n",
       "      <td>10.000000</td>\n",
       "      <td>10.000000</td>\n",
       "      <td>2.700000</td>\n",
       "      <td>0.900000</td>\n",
       "      <td>0.300000</td>\n",
       "    </tr>\n",
       "    <tr>\n",
       "      <th>25%</th>\n",
       "      <td>33.000000</td>\n",
       "      <td>0.800000</td>\n",
       "      <td>0.200000</td>\n",
       "      <td>175.500000</td>\n",
       "      <td>23.000000</td>\n",
       "      <td>25.000000</td>\n",
       "      <td>5.800000</td>\n",
       "      <td>2.600000</td>\n",
       "      <td>0.700000</td>\n",
       "    </tr>\n",
       "    <tr>\n",
       "      <th>50%</th>\n",
       "      <td>45.000000</td>\n",
       "      <td>1.000000</td>\n",
       "      <td>0.300000</td>\n",
       "      <td>208.000000</td>\n",
       "      <td>35.000000</td>\n",
       "      <td>42.000000</td>\n",
       "      <td>6.600000</td>\n",
       "      <td>3.100000</td>\n",
       "      <td>0.930000</td>\n",
       "    </tr>\n",
       "    <tr>\n",
       "      <th>75%</th>\n",
       "      <td>58.000000</td>\n",
       "      <td>2.600000</td>\n",
       "      <td>1.300000</td>\n",
       "      <td>298.000000</td>\n",
       "      <td>60.500000</td>\n",
       "      <td>87.000000</td>\n",
       "      <td>7.200000</td>\n",
       "      <td>3.800000</td>\n",
       "      <td>1.100000</td>\n",
       "    </tr>\n",
       "    <tr>\n",
       "      <th>max</th>\n",
       "      <td>90.000000</td>\n",
       "      <td>75.000000</td>\n",
       "      <td>19.700000</td>\n",
       "      <td>2110.000000</td>\n",
       "      <td>2000.000000</td>\n",
       "      <td>4929.000000</td>\n",
       "      <td>9.600000</td>\n",
       "      <td>5.500000</td>\n",
       "      <td>2.800000</td>\n",
       "    </tr>\n",
       "  </tbody>\n",
       "</table>\n",
       "</div>"
      ],
      "text/plain": [
       "              Age  Total_Bilirubin  Direct_Bilirubin  Alkaline_Phosphotase  \\\n",
       "count  583.000000       583.000000        583.000000            583.000000   \n",
       "mean    44.746141         3.298799          1.486106            290.576329   \n",
       "std     16.189833         6.209522          2.808498            242.937989   \n",
       "min      4.000000         0.400000          0.100000             63.000000   \n",
       "25%     33.000000         0.800000          0.200000            175.500000   \n",
       "50%     45.000000         1.000000          0.300000            208.000000   \n",
       "75%     58.000000         2.600000          1.300000            298.000000   \n",
       "max     90.000000        75.000000         19.700000           2110.000000   \n",
       "\n",
       "       Alamine_Aminotransferase  Aspartate_Aminotransferase  Total_Protiens  \\\n",
       "count                583.000000                  583.000000      583.000000   \n",
       "mean                  80.713551                  109.910806        6.483190   \n",
       "std                  182.620356                  288.918529        1.085451   \n",
       "min                   10.000000                   10.000000        2.700000   \n",
       "25%                   23.000000                   25.000000        5.800000   \n",
       "50%                   35.000000                   42.000000        6.600000   \n",
       "75%                   60.500000                   87.000000        7.200000   \n",
       "max                 2000.000000                 4929.000000        9.600000   \n",
       "\n",
       "          Albumin  Albumin_and_Globulin_Ratio  \n",
       "count  583.000000                  579.000000  \n",
       "mean     3.141852                    0.947064  \n",
       "std      0.795519                    0.319592  \n",
       "min      0.900000                    0.300000  \n",
       "25%      2.600000                    0.700000  \n",
       "50%      3.100000                    0.930000  \n",
       "75%      3.800000                    1.100000  \n",
       "max      5.500000                    2.800000  "
      ]
     },
     "execution_count": 3,
     "metadata": {},
     "output_type": "execute_result"
    }
   ],
   "source": [
    "# mean, max & min across each attribute\n",
    "df.describe()\n",
    "# Describe function provides us min, max and mean of all the attributes in the dataset."
   ]
  },
  {
   "cell_type": "code",
   "execution_count": 4,
   "metadata": {},
   "outputs": [
    {
     "data": {
      "text/plain": [
       "Age                             int64\n",
       "Total_Bilirubin               float64\n",
       "Direct_Bilirubin              float64\n",
       "Alkaline_Phosphotase            int64\n",
       "Alamine_Aminotransferase        int64\n",
       "Aspartate_Aminotransferase      int64\n",
       "Total_Protiens                float64\n",
       "Albumin                       float64\n",
       "Albumin_and_Globulin_Ratio    float64\n",
       "Dataset                        object\n",
       "dtype: object"
      ]
     },
     "execution_count": 4,
     "metadata": {},
     "output_type": "execute_result"
    }
   ],
   "source": [
    "# Checking the datatypes. so that we can modify them according to other dataset.\n",
    "df.dtypes"
   ]
  },
  {
   "cell_type": "code",
   "execution_count": 5,
   "metadata": {},
   "outputs": [
    {
     "data": {
      "text/plain": [
       "(583, 10)"
      ]
     },
     "execution_count": 5,
     "metadata": {},
     "output_type": "execute_result"
    }
   ],
   "source": [
    "df.shape"
   ]
  },
  {
   "cell_type": "code",
   "execution_count": 6,
   "metadata": {},
   "outputs": [
    {
     "data": {
      "text/plain": [
       "Age                           0\n",
       "Total_Bilirubin               0\n",
       "Direct_Bilirubin              0\n",
       "Alkaline_Phosphotase          0\n",
       "Alamine_Aminotransferase      0\n",
       "Aspartate_Aminotransferase    0\n",
       "Total_Protiens                0\n",
       "Albumin                       0\n",
       "Albumin_and_Globulin_Ratio    4\n",
       "Dataset                       0\n",
       "dtype: int64"
      ]
     },
     "execution_count": 6,
     "metadata": {},
     "output_type": "execute_result"
    }
   ],
   "source": [
    "# we can quantify the total number of missing values using\n",
    "# the isnull method plus the sum method on the dataframe\n",
    "df.isna().sum()"
   ]
  },
  {
   "cell_type": "code",
   "execution_count": 7,
   "metadata": {},
   "outputs": [],
   "source": [
    "# For the better evaluation we are replacing categorical values to numerical values\n",
    "df[\"Dataset\"] = df[\"Dataset\"].replace(\"Yes\",1)\n",
    "df[\"Dataset\"] = df[\"Dataset\"].replace(\"No\",0)\n",
    "\n",
    "# replacing those attributes which has NAN values to the mean of that column.\n",
    "for column in df:\n",
    "    if column not in (\"Dataset\"):\n",
    "        df[column] = df[column].replace(0,np.NaN)\n",
    "        mean = int(df[column].mean(skipna=True))\n",
    "        df[column]=df[column].replace(np.NaN, mean)"
   ]
  },
  {
   "cell_type": "code",
   "execution_count": 8,
   "metadata": {
    "scrolled": false
   },
   "outputs": [
    {
     "data": {
      "text/plain": [
       "Age                           0\n",
       "Total_Bilirubin               0\n",
       "Direct_Bilirubin              0\n",
       "Alkaline_Phosphotase          0\n",
       "Alamine_Aminotransferase      0\n",
       "Aspartate_Aminotransferase    0\n",
       "Total_Protiens                0\n",
       "Albumin                       0\n",
       "Albumin_and_Globulin_Ratio    0\n",
       "Dataset                       0\n",
       "dtype: int64"
      ]
     },
     "execution_count": 8,
     "metadata": {},
     "output_type": "execute_result"
    }
   ],
   "source": [
    "df.isna().sum()\n"
   ]
  },
  {
   "cell_type": "code",
   "execution_count": 9,
   "metadata": {
    "scrolled": true
   },
   "outputs": [
    {
     "data": {
      "image/png": "[encoded data removed]",
      "text/plain": [
       "<Figure size 576x864 with 2 Axes>"
      ]
     },
     "metadata": {},
     "output_type": "display_data"
    }
   ],
   "source": [
    "# taking the number of columns in a dataframe\n",
    "n=df.shape[1]\n",
    "# Defining the plot size \n",
    "fig, axs = plt.subplots(figsize = (8, 12))\n",
    "# specifying some more attributes to adjust the heat map\n",
    "plt.subplots_adjust(left=0, bottom=0, right=1, top=1, wspace=0, hspace=0.2)\n",
    "plt.subplot(2, 1, 1)\n",
    "# correlation heatmap with annotation\n",
    "sns.heatmap(df.corr(), linewidths = 0.1, square = True, annot = True, cmap = \"YlGnBu\")\n",
    "plt.ylim(n, 0)\n",
    "plt.xlim(0, n)\n",
    "plt.title(\"correlation heatmap with annotation\")\n",
    "plt.show()"
   ]
  },
  {
   "cell_type": "markdown",
   "metadata": {},
   "source": [
    "#### As we can see the correlation between any two attributes is maximum of 43% .<br />We can clearly say that all the attributes are independent of each other and we can consider all of them to furthur process"
   ]
  },
  {
   "cell_type": "code",
   "execution_count": 10,
   "metadata": {},
   "outputs": [],
   "source": [
    "#creating arrays for attributes and class\n",
    "X = df.drop('Dataset',axis=1)\n",
    "y = df['Dataset'].values"
   ]
  },
  {
   "cell_type": "code",
   "execution_count": 11,
   "metadata": {},
   "outputs": [],
   "source": [
    "# Scaling the Data so that computations will be much faster and also easily understood by machine while computing\n",
    "column_names = X.columns\n",
    "scaler = StandardScaler()\n",
    "X = pd.DataFrame(scaler.fit_transform(X),columns=column_names)"
   ]
  },
  {
   "cell_type": "code",
   "execution_count": 12,
   "metadata": {},
   "outputs": [],
   "source": [
    "# Splitting data into test and train sets \n",
    "# Stratify = y is used to split the training and testing data sets uniformly\n",
    "# we are splitting training and testing data sets into 70-30 ratio.\n",
    "X_train,X_test,y_train,y_test = train_test_split(X,y,test_size=0.3,random_state=42, stratify=y)"
   ]
  },
  {
   "cell_type": "markdown",
   "metadata": {},
   "source": [
    "# Naive Bayes Implementation"
   ]
  },
  {
   "cell_type": "code",
   "execution_count": 13,
   "metadata": {},
   "outputs": [
    {
     "data": {
      "text/plain": [
       "GaussianNB()"
      ]
     },
     "execution_count": 13,
     "metadata": {},
     "output_type": "execute_result"
    }
   ],
   "source": [
    "#Create a Gaussian Classifier\n",
    "NBmodel = GaussianNB()\n",
    "\n",
    "# Train the model using the training sets \n",
    "NBmodel.fit(X_train, y_train)"
   ]
  },
  {
   "cell_type": "code",
   "execution_count": 14,
   "metadata": {},
   "outputs": [],
   "source": [
    "#Predict on test data\n",
    "y_pred_NB = NBmodel.predict(X_test)"
   ]
  },
  {
   "cell_type": "code",
   "execution_count": 15,
   "metadata": {
    "scrolled": true
   },
   "outputs": [
    {
     "data": {
      "text/plain": [
       "array([[49,  1],\n",
       "       [70, 55]], dtype=int64)"
      ]
     },
     "execution_count": 15,
     "metadata": {},
     "output_type": "execute_result"
    }
   ],
   "source": [
    "# predictions using the GaussianNB classifier that we fit in the above steps\n",
    "confusion_matrix(y_test,y_pred_NB)"
   ]
  },
  {
   "cell_type": "code",
   "execution_count": 16,
   "metadata": {},
   "outputs": [
    {
     "data": {
      "text/html": [
       "<div>\n",
       "<style scoped>\n",
       "    .dataframe tbody tr th:only-of-type {\n",
       "        vertical-align: middle;\n",
       "    }\n",
       "\n",
       "    .dataframe tbody tr th {\n",
       "        vertical-align: top;\n",
       "    }\n",
       "\n",
       "    .dataframe thead th {\n",
       "        text-align: right;\n",
       "    }\n",
       "</style>\n",
       "<table border=\"1\" class=\"dataframe\">\n",
       "  <thead>\n",
       "    <tr style=\"text-align: right;\">\n",
       "      <th>Predicted</th>\n",
       "      <th>0</th>\n",
       "      <th>1</th>\n",
       "      <th>All</th>\n",
       "    </tr>\n",
       "    <tr>\n",
       "      <th>True</th>\n",
       "      <th></th>\n",
       "      <th></th>\n",
       "      <th></th>\n",
       "    </tr>\n",
       "  </thead>\n",
       "  <tbody>\n",
       "    <tr>\n",
       "      <th>0</th>\n",
       "      <td>49</td>\n",
       "      <td>1</td>\n",
       "      <td>50</td>\n",
       "    </tr>\n",
       "    <tr>\n",
       "      <th>1</th>\n",
       "      <td>70</td>\n",
       "      <td>55</td>\n",
       "      <td>125</td>\n",
       "    </tr>\n",
       "    <tr>\n",
       "      <th>All</th>\n",
       "      <td>119</td>\n",
       "      <td>56</td>\n",
       "      <td>175</td>\n",
       "    </tr>\n",
       "  </tbody>\n",
       "</table>\n",
       "</div>"
      ],
      "text/plain": [
       "Predicted    0   1  All\n",
       "True                   \n",
       "0           49   1   50\n",
       "1           70  55  125\n",
       "All        119  56  175"
      ]
     },
     "execution_count": 16,
     "metadata": {},
     "output_type": "execute_result"
    }
   ],
   "source": [
    "# We have a method in pandas library to find confusion matrix. corsstab. \n",
    "pd.crosstab(y_test, y_pred_NB, rownames=['True'], colnames=['Predicted'], margins=True)"
   ]
  },
  {
   "cell_type": "code",
   "execution_count": 107,
   "metadata": {
    "scrolled": true
   },
   "outputs": [
    {
     "name": "stdout",
     "output_type": "stream",
     "text": [
      "============================================================================\n",
      "F1 Score: 60.773481%\n",
      "Accuracy: 59.428571%\n",
      "AUC: 71.000000%\n",
      "Training Set Score: 52.941176%\n",
      "Testing Set Score: 59.428571%\n",
      "============================Report========================================\n",
      "              precision    recall  f1-score   support\n",
      "\n",
      "           0       0.41      0.98      0.58        50\n",
      "           1       0.98      0.44      0.61       125\n",
      "\n",
      "    accuracy                           0.59       175\n",
      "   macro avg       0.70      0.71      0.59       175\n",
      "weighted avg       0.82      0.59      0.60       175\n",
      "\n",
      "============================================================================\n"
     ]
    }
   ],
   "source": [
    "print(\"============================================================================\")\n",
    "\n",
    "print('F1 Score: {:2f}%'.format(f1_score(y_test, y_pred_NB)*100))\n",
    "print('Accuracy: {:2f}%'.format(accuracy_score(y_test, y_pred_NB)*100))\n",
    "print('AUC: {:2f}%'.format(roc_auc_score(y_test, y_pred_NB)*100))\n",
    "print('Training Set Score: {:2f}%'.format(NBmodel.score(X_train, y_train)*100))\n",
    "print('Testing Set Score: {:2f}%'.format(NBmodel.score(X_test, y_test)*100))\n",
    "print(\"============================Report========================================\")\n",
    "\n",
    "print(classification_report(y_test, y_pred_NB))\n",
    "print(\"============================================================================\")"
   ]
  },
  {
   "cell_type": "markdown",
   "metadata": {},
   "source": [
    "# Logistic Regression Implementation"
   ]
  },
  {
   "cell_type": "code",
   "execution_count": 19,
   "metadata": {},
   "outputs": [],
   "source": [
    "c_values = list(np.arange(1,100))\n",
    "strat_k_fold = StratifiedKFold(n_splits=10)\n",
    "parameters_grid = [\n",
    "     {\n",
    "        'C':c_values,\n",
    "        'multi_class':['ovr'],\n",
    "        'penalty':['l2'],\n",
    "        'solver':['liblinear','newton-cg','lbfgs'],\n",
    "        'random_state':[42]    \n",
    "    },\n",
    "    {\n",
    "        'C':c_values,\n",
    "        'multi_class':['ovr'],\n",
    "        'penalty':['l1'],\n",
    "        'solver':['liblinear'],\n",
    "        'random_state':[42]\n",
    "    },\n",
    "  \n",
    "]\n",
    "\n",
    "grid=GridSearchCV(\n",
    "    LogisticRegression(),\n",
    "    param_grid = parameters_grid,\n",
    "    cv=strat_k_fold,\n",
    "    scoring=\"f1\"\n",
    ")\n",
    "best_lr = grid.fit(X,y)\n",
    "best_lr.fit(X_train,y_train)\n",
    "\n",
    "log_reg_predict = best_lr.predict(X_test)\n",
    "# log_reg_predict\n",
    "log_reg_predict_prob = best_lr.predict_proba(X_test)[:,-1]\n",
    "# log_reg_predict_prob"
   ]
  },
  {
   "cell_type": "code",
   "execution_count": 106,
   "metadata": {},
   "outputs": [
    {
     "name": "stdout",
     "output_type": "stream",
     "text": [
      "============================================================================\n",
      "F1 Score: 83.802817%\n",
      "Accuracy: 73.714286%\n",
      "AUC: 77.616000%\n",
      "Training Set Score: 83.614089%\n",
      "Testing Set Score: 83.802817%\n",
      "========================Report================================\n",
      "              precision    recall  f1-score   support\n",
      "\n",
      "           0       0.62      0.20      0.30        50\n",
      "           1       0.75      0.95      0.84       125\n",
      "\n",
      "    accuracy                           0.74       175\n",
      "   macro avg       0.69      0.58      0.57       175\n",
      "weighted avg       0.71      0.74      0.69       175\n",
      "\n",
      "============================================================================\n"
     ]
    }
   ],
   "source": [
    "print(\"============================================================================\")\n",
    "\n",
    "print('F1 Score: {:2f}%'.format(f1_score(y_test, log_reg_predict)*100))\n",
    "print('Accuracy: {:2f}%'.format(accuracy_score(y_test, log_reg_predict)*100))\n",
    "print('AUC: {:2f}%'.format(roc_auc_score(y_test, log_reg_predict_prob)*100))\n",
    "print('Training Set Score: {:2f}%'.format(best_lr.score(X_train, y_train)*100))\n",
    "print('Testing Set Score: {:2f}%'.format(best_lr.score(X_test, y_test)*100))\n",
    "print(\"========================Report================================\")\n",
    "\n",
    "print(classification_report(y_test, log_reg_predict))\n",
    "print(\"============================================================================\")\n"
   ]
  },
  {
   "cell_type": "code",
   "execution_count": 22,
   "metadata": {},
   "outputs": [
    {
     "data": {
      "text/plain": [
       "array([[ 10,  40],\n",
       "       [  6, 119]], dtype=int64)"
      ]
     },
     "execution_count": 22,
     "metadata": {},
     "output_type": "execute_result"
    }
   ],
   "source": [
    "# predictions using the LR classifier that we fit in the above steps\n",
    "confusion_matrix(y_test,log_reg_predict)"
   ]
  },
  {
   "cell_type": "code",
   "execution_count": 37,
   "metadata": {
    "scrolled": true
   },
   "outputs": [
    {
     "data": {
      "text/html": [
       "<div>\n",
       "<style scoped>\n",
       "    .dataframe tbody tr th:only-of-type {\n",
       "        vertical-align: middle;\n",
       "    }\n",
       "\n",
       "    .dataframe tbody tr th {\n",
       "        vertical-align: top;\n",
       "    }\n",
       "\n",
       "    .dataframe thead th {\n",
       "        text-align: right;\n",
       "    }\n",
       "</style>\n",
       "<table border=\"1\" class=\"dataframe\">\n",
       "  <thead>\n",
       "    <tr style=\"text-align: right;\">\n",
       "      <th>Predicted</th>\n",
       "      <th>0</th>\n",
       "      <th>1</th>\n",
       "      <th>All</th>\n",
       "    </tr>\n",
       "    <tr>\n",
       "      <th>True</th>\n",
       "      <th></th>\n",
       "      <th></th>\n",
       "      <th></th>\n",
       "    </tr>\n",
       "  </thead>\n",
       "  <tbody>\n",
       "    <tr>\n",
       "      <th>0</th>\n",
       "      <td>10</td>\n",
       "      <td>40</td>\n",
       "      <td>50</td>\n",
       "    </tr>\n",
       "    <tr>\n",
       "      <th>1</th>\n",
       "      <td>6</td>\n",
       "      <td>119</td>\n",
       "      <td>125</td>\n",
       "    </tr>\n",
       "    <tr>\n",
       "      <th>All</th>\n",
       "      <td>16</td>\n",
       "      <td>159</td>\n",
       "      <td>175</td>\n",
       "    </tr>\n",
       "  </tbody>\n",
       "</table>\n",
       "</div>"
      ],
      "text/plain": [
       "Predicted   0    1  All\n",
       "True                   \n",
       "0          10   40   50\n",
       "1           6  119  125\n",
       "All        16  159  175"
      ]
     },
     "execution_count": 37,
     "metadata": {},
     "output_type": "execute_result"
    }
   ],
   "source": [
    "# We have a method in pandas library to find confusion matrix. corsstab. \n",
    "pd.crosstab(y_test, log_reg_predict, rownames=['True'], colnames=['Predicted'], margins=True)"
   ]
  },
  {
   "cell_type": "markdown",
   "metadata": {},
   "source": [
    "## Comparision of results and accuracies for both the algorithms."
   ]
  },
  {
   "cell_type": "code",
   "execution_count": 105,
   "metadata": {
    "scrolled": false
   },
   "outputs": [
    {
     "name": "stdout",
     "output_type": "stream",
     "text": [
      "========================================================================================================================\n",
      "               \u001b[1m Model      F1-Score           Accuracy         Training Set Score           \n",
      "========================================================================================================================\n",
      "              Naive Bayes ||    60.773481  ||    59.428571    ||        59.428571         \n",
      "------------------------------------------------------------------------------------------------------------------------\n",
      "      Logistic Regression ||    83.802817  ||    73.714286    ||        83.614089         \n",
      "========================================================================================================================\n"
     ]
    }
   ],
   "source": [
    "# Naive bayes Regression values\n",
    "NB_f1score = f1_score(y_test, y_pred_NB) * 100\n",
    "NB_accuracy = accuracy_score(y_test, y_pred_NB)*100\n",
    "NB_auc = accuracy_score(y_test, y_pred_NB)*100\n",
    "NB_Training_Set_Score = NBmodel.score(X_train, y_train)*100\n",
    "NB_Testing_Set_Score = NBmodel.score(X_test, y_test)*100\n",
    "\n",
    "# Logistic Regression values\n",
    "LR_f1score = f1_score(y_test, log_reg_predict) * 100\n",
    "LR_accuracy = accuracy_score(y_test, log_reg_predict)*100\n",
    "LR_Training_Set_Score = best_lr.score(X_train, y_train)*100\n",
    "LR_Testing_Set_Score = best_lr.score(X_test, y_test)*100\n",
    "\n",
    "\n",
    "# Displaying Errors and score\n",
    "dash = '=' * 120\n",
    "print(dash)\n",
    "print('{:>25} {:>13} {:>18} {:^35}  '.format(\"\\033[1m Model\",\"F1-Score\",\"Accuracy\",\"Training Set Score\",\"Testing Set Score \\033[0m\"))\n",
    "print(dash)\n",
    "\n",
    "print('{:>25} ||    {:<10f} || {:>12f}    || {:^24f} '.format(\"Naive Bayes\",NB_f1score,NB_accuracy,NB_auc))\n",
    "print(\"------------------------------------------------------------------------------------------------------------------------\")\n",
    "print('{:>25} ||    {:<10f} || {:>12f}    || {:^24f} '.format(\"Logistic Regression\",LR_f1score,LR_accuracy,LR_Training_Set_Score))\n",
    "\n",
    "print(dash)\n"
   ]
  },
  {
   "cell_type": "markdown",
   "metadata": {},
   "source": [
    "###### Looking at the above table, we can see that  Logistic Regression is measuring the model better compared to Naive Bayes.\n",
    "\n",
    "F1 score is 23% higher, Accuracy is 12% higher for LR model when compared to NB Model"
   ]
  },
  {
   "cell_type": "markdown",
   "metadata": {},
   "source": [
    "#### Now let's compare the Confusion matrix for both the models"
   ]
  },
  {
   "cell_type": "code",
   "execution_count": 143,
   "metadata": {},
   "outputs": [
    {
     "data": {
      "text/plain": [
       "<matplotlib.axes._subplots.AxesSubplot at 0x2aa38e02460>"
      ]
     },
     "execution_count": 143,
     "metadata": {},
     "output_type": "execute_result"
    },
    {
     "data": {
      "image/png": "[encoded data removed]",
      "text/plain": [
       "<Figure size 1080x216 with 4 Axes>"
      ]
     },
     "metadata": {},
     "output_type": "display_data"
    }
   ],
   "source": [
    "outcome_labels = sorted(df.Dataset.unique())\n",
    "outcome_labels\n",
    "f, axes = plt.subplots(1,2, figsize=(15,3), sharex=False)\n",
    "sns.heatmap(\n",
    "    confusion_matrix(y_test,y_pred_NB),\n",
    "    annot=True,\n",
    "    xticklabels=outcome_labels,\n",
    "    yticklabels=outcome_labels,\n",
    "    ax=axes[0],\n",
    "#     axes.set_title('lalala')\n",
    ")\n",
    "\n",
    "sns.heatmap(\n",
    "    confusion_matrix(y_test,log_reg_predict),\n",
    "    annot=True,\n",
    "    xticklabels=outcome_labels,\n",
    "    yticklabels=outcome_labels,\n",
    "    ax=axes[1]\n",
    ")\n"
   ]
  },
  {
   "cell_type": "code",
   "execution_count": null,
   "metadata": {},
   "outputs": [],
   "source": [
    "If you look at the above heatmaps which represent "
   ]
  }
 ],
 "metadata": {
  "kernelspec": {
   "display_name": "Python 3",
   "language": "python",
   "name": "python3"
  },
  "language_info": {
   "codemirror_mode": {
    "name": "ipython",
    "version": 3
   },
   "file_extension": ".py",
   "mimetype": "text/x-python",
   "name": "python",
   "nbconvert_exporter": "python",
   "pygments_lexer": "ipython3",
   "version": "3.8.4rc1"
  }
 },
 "nbformat": 4,
 "nbformat_minor": 4
}

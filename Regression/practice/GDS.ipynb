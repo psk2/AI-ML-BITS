{
 "cells": [
  {
   "cell_type": "code",
   "execution_count": 33,
   "metadata": {},
   "outputs": [],
   "source": [
    "import matplotlib.pyplot as plt\n",
    "import numpy as np\n",
    "import pandas as pd\n",
    "import seaborn as sns\n",
    "import time\n",
    "from scipy import stats \n",
    "from sklearn.datasets.samples_generator import make_regression\n",
    "from sklearn.model_selection import train_test_split \n",
    "\n",
    "%matplotlib inline"
   ]
  },
  {
   "cell_type": "code",
   "execution_count": 34,
   "metadata": {},
   "outputs": [],
   "source": [
    "def timeit(method):\n",
    "    def timed(*args, **kw):\n",
    "        ts = time.time()\n",
    "        result = method(*args, **kw)\n",
    "        te = time.time()\n",
    "        if 'log_time' in kw:\n",
    "            name = kw.get('log_name', method.__name__.upper())\n",
    "            kw['log_time'][name] = int((te - ts) * 1000)\n",
    "        else:\n",
    "            print('%r  %2.2f ms' % \\\n",
    "                  (method.__name__, (te - ts) * 1000))\n",
    "        return result\n",
    "    return timed"
   ]
  },
  {
   "cell_type": "code",
   "execution_count": 35,
   "metadata": {},
   "outputs": [],
   "source": [
    "bags = pd.read_csv ('Data_miniproject.csv');\n",
    "bags = bags[bags.Cost != 0]\n",
    "# y = bags.pop('Cost');\n",
    "# X = bags.pop('Height')\n",
    "X = bags.iloc[:,1:6]\n",
    "X = X.values\n",
    "y = bags.iloc[:,0]\n",
    "y=y.values\n",
    "X_train, X_test, y_train, y_test = train_test_split(X, y, test_size=0.2, random_state=0)"
   ]
  },
  {
   "cell_type": "code",
   "execution_count": 36,
   "metadata": {},
   "outputs": [],
   "source": [
    "def cal_cost(theta,X,y):\n",
    "    m = len(y)\n",
    "    predictions = X.dot(theta)\n",
    "    cost = (1/2*m) * np.sum(np.square(predictions-y))\n",
    "    return cost"
   ]
  },
  {
   "cell_type": "code",
   "execution_count": 61,
   "metadata": {},
   "outputs": [],
   "source": [
    "@timeit\n",
    "def gradient_descent(X, y, theta, learning_rate=0.01, iterations=100):\n",
    "    m = len(y)\n",
    "    n = X.shape[1]\n",
    "    cost_history = np.zeros(iterations)\n",
    "    theta_history = np.zeros((iterations, n))\n",
    "    for it in range(iterations):\n",
    "        prediction = np.dot(X, theta)\n",
    "        theta = theta - (1 / m) * learning_rate * (X.T.dot((prediction - y)))\n",
    "        theta_history[it, :] = theta.T\n",
    "        cost_history[it] = cal_cost(theta, X, y)\n",
    "    return theta, cost_history, theta_history"
   ]
  },
  {
   "cell_type": "code",
   "execution_count": 63,
   "metadata": {},
   "outputs": [
    {
     "name": "stdout",
     "output_type": "stream",
     "text": [
      "'gradient_descent'  55.24 ms\n",
      "Theta0: nan,\n",
      "Theta1:nan\n",
      "Final cost/MSE:  nan\n"
     ]
    },
    {
     "name": "stderr",
     "output_type": "stream",
     "text": [
      "/home/psk/.local/lib/python3.6/site-packages/ipykernel_launcher.py:4: RuntimeWarning: overflow encountered in square\n",
      "  after removing the cwd from sys.path.\n",
      "/home/psk/.local/lib/python3.6/site-packages/ipykernel_launcher.py:9: RuntimeWarning: invalid value encountered in subtract\n",
      "  if __name__ == '__main__':\n"
     ]
    }
   ],
   "source": [
    "lr = 0.05\n",
    "n_iter = 1000\n",
    "m,n=np.shape(X)\n",
    "y=y.reshape(m,1)\n",
    "x=np.c_[np.ones((m,1)),X]\n",
    "theta=np.zeros((n+1,1))\n",
    "theta\n",
    "# # theta = np.random.randn(n+1,1)\n",
    "X_b = np.c_[np.ones((len(X), 1)), X]\n",
    "X_b\n",
    "# # np.concatenate((np.ones((X_train.shape[0],1)), X_train),axis = 1)\n",
    "theta, cost_history, theta_history = gradient_descent(X_b, y, theta, lr, n_iter)\n",
    "print(\"Theta0: {:0.3f},\\nTheta1:{:0.3f}\".format(theta[0][0], theta[1][0]))\n",
    "print(\"Final cost/MSE:  {:0.3f}\".format(cost_history[-1]))"
   ]
  },
  {
   "cell_type": "code",
   "execution_count": 41,
   "metadata": {},
   "outputs": [],
   "source": [
    "@timeit\n",
    "def minibatch_gradient_descent(X,y,theta,learning_rate=0.01, iterations=10, batch_size =20):\n",
    "    m = len(y)\n",
    "    cost_history = np.zeros(iterations)\n",
    "    n_batches = int(m/batch_size)\n",
    "    for it in range(iterations):\n",
    "        cost =0.0\n",
    "        indices = np.random.permutation(m)\n",
    "        X = X[indices]\n",
    "        y = y[indices]\n",
    "        for i in range(0,m,batch_size):\n",
    "            X_i = X[i:i+batch_size]\n",
    "            y_i = y[i:i+batch_size]\n",
    "            X_i = np.c_[np.ones(len(X_i)),X_i]\n",
    "            prediction = np.dot(X_i,theta)\n",
    "            theta = theta -(1/m)*learning_rate*( X_i.T.dot((prediction - y_i)))\n",
    "            cost += cal_cost(theta,X_i,y_i)\n",
    "        cost_history[it]  = cost\n",
    "    return theta, cost_history"
   ]
  },
  {
   "cell_type": "code",
   "execution_count": 46,
   "metadata": {},
   "outputs": [
    {
     "data": {
      "text/plain": [
       "array([[ 0.95194575,  0.10761014, -0.7402122 , -0.08933266,  0.96175112,\n",
       "         1.03643556],\n",
       "       [ 0.87462758,  0.36477309,  0.91366881, -0.60920934, -1.48817501,\n",
       "        -1.10577411],\n",
       "       [-0.25225937,  0.19087009,  0.86493494,  0.38999984, -0.02885042,\n",
       "         1.27919763],\n",
       "       [-0.55466363, -1.52657066,  0.76803921,  0.72293479,  1.04313737,\n",
       "        -0.18867175],\n",
       "       [ 1.53947623, -0.18223603, -1.52513937, -0.23033542, -1.74859774,\n",
       "         0.76278628],\n",
       "       [ 0.00703904, -0.77936172,  0.9850332 , -1.24012242,  0.27085325,\n",
       "         0.70402237],\n",
       "       [-0.0617313 ,  0.04305232, -0.42133041,  0.42668344,  0.02904304,\n",
       "         1.05656925],\n",
       "       [ 1.06731   ,  0.1164101 ,  0.40668145,  1.45578955, -0.08156634,\n",
       "        -0.31416297],\n",
       "       [-1.56066022,  0.47688654, -1.15966885, -0.70922387, -0.31628381,\n",
       "        -0.43114963],\n",
       "       [ 0.02683375,  0.16061389, -0.42780901,  0.43853202,  1.28615936,\n",
       "         0.42004406],\n",
       "       [ 0.49389609, -0.14996768, -1.3685626 , -1.39751604, -0.96479434,\n",
       "         1.52817084],\n",
       "       [-0.2587179 ,  1.71057511,  0.65099598,  1.66932813, -1.38122453,\n",
       "        -0.22697111],\n",
       "       [-0.9739661 ,  1.2759467 ,  0.16544426,  0.54383454, -0.40249327,\n",
       "        -0.0865368 ],\n",
       "       [-0.29836869, -0.83685773,  0.15390948, -0.33222419, -0.40613457,\n",
       "         0.89295427],\n",
       "       [ 0.51302679, -0.00878279,  0.21674184, -0.37484782, -0.32508202,\n",
       "        -1.03352041],\n",
       "       [ 0.38907222, -0.7478277 ,  1.06614678, -0.36412245,  0.26508503,\n",
       "        -0.62127405],\n",
       "       [-0.9380834 , -2.84151548, -0.4880185 , -0.86291805, -0.32068918,\n",
       "        -0.37301168],\n",
       "       [ 1.06078585, -0.46372968,  2.2306985 , -1.1508743 ,  1.46957096,\n",
       "        -0.44698825],\n",
       "       [ 0.04823078, -0.44931399,  0.46671994,  1.26860286, -0.36399672,\n",
       "        -1.06851546],\n",
       "       [ 0.68877014, -0.35486036,  1.26357101, -2.48560439, -0.68753444,\n",
       "        -0.2493539 ]])"
      ]
     },
     "execution_count": 46,
     "metadata": {},
     "output_type": "execute_result"
    }
   ],
   "source": [
    "lr = 0.05\n",
    "n_iter = 1000\n",
    "theta = np.random.randn(20, 6)\n",
    "theta\n",
    "# theta,cost_history = minibatch_gradient_descent(X,y,theta,lr,n_iter)\n",
    "# print('Theta0:          {:0.3f},\\nTheta1:          {:0.3f}'.format(theta[0][0],theta[1][0]))\n",
    "# print('Final cost/MSE:  {:0.3f}'.format(cost_history[-1]))\n"
   ]
  }
 ],
 "metadata": {
  "kernelspec": {
   "display_name": "Python 3",
   "language": "python",
   "name": "python3"
  },
  "language_info": {
   "codemirror_mode": {
    "name": "ipython",
    "version": 3
   },
   "file_extension": ".py",
   "mimetype": "text/x-python",
   "name": "python",
   "nbconvert_exporter": "python",
   "pygments_lexer": "ipython3",
   "version": "3.6.9"
  }
 },
 "nbformat": 4,
 "nbformat_minor": 4
}

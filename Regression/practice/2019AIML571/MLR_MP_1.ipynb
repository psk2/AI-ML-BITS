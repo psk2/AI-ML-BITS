{
  "nbformat": 4,
  "nbformat_minor": 0,
  "metadata": {
    "kernelspec": {
      "display_name": "Python 3",
      "language": "python",
      "name": "python3"
    },
    "language_info": {
      "codemirror_mode": {
        "name": "ipython",
        "version": 3
      },
      "file_extension": ".py",
      "mimetype": "text/x-python",
      "name": "python",
      "nbconvert_exporter": "python",
      "pygments_lexer": "ipython3",
      "version": "3.6.9"
    },
    "colab": {
      "name": "MLR MP 1.ipynb",
      "provenance": [],
      "collapsed_sections": []
    }
  },
  "cells": [
    {
      "cell_type": "code",
      "metadata": {
        "id": "SfA3lBDhw3g7",
        "colab_type": "code",
        "colab": {}
      },
      "source": [
        "import numpy as np # Numpy module for Linear Algebra\n",
        "import pandas as pd # Pandas module for Data Manipulation\n",
        "import matplotlib.pyplot as plt # Module for Plotting\n",
        "from sklearn.model_selection import train_test_split #Splitting data into test and train sets\n",
        "from sklearn.metrics import r2_score #Module for calculating r_square value\n",
        "from sklearn.metrics import mean_squared_error #To find the mean squared error value\n",
        "from sklearn.preprocessing import StandardScaler # Used to scale the data\n",
        "import math #For computing math functions\n",
        "import time # Time library to get time\n",
        "from sklearn.linear_model import LinearRegression # Linear Regression from Sklearn Library to solve Linear Equations.\n",
        "from sklearn.metrics import r2_score # For checking R Square\n",
        "from IPython.display import Markdown as md #For displaying results in md\n",
        "import seaborn as sns # Another module for plotting\n",
        "from scipy import stats # Module For removing outliers in this program.\n",
        "%matplotlib inline"
      ],
      "execution_count": 0,
      "outputs": []
    },
    {
      "cell_type": "code",
      "metadata": {
        "id": "vOicW15gw3hA",
        "colab_type": "code",
        "colab": {},
        "outputId": "56a5f196-3bab-4c67-d423-4659852fd554"
      },
      "source": [
        "# Import csv file using pandas\n",
        "bags = pd.read_csv ('Data_miniproject.csv');\n",
        "# Remove rows with cost feature 0  \n",
        "bags = bags[bags.Cost != 0]\n",
        "\n",
        "\n",
        "# Eliminate outliers using z-scores from Scipy library.\n",
        "z_scores = stats.zscore(bags)\n",
        "abs_z_scores = np.abs(z_scores)\n",
        "filtered_entries = (abs_z_scores < 3).all(axis=1)\n",
        "bags = bags[filtered_entries]\n",
        "\n",
        "\n",
        "# Taking dependent variables as X and independent variable(COST) as y\n",
        "y = bags.pop('Cost');\n",
        "X = bags.copy()\n",
        "\n",
        "# Scaling the Data for faster computations and easy understanding of machine\n",
        "column_names = X.columns\n",
        "scaler = StandardScaler()\n",
        "X = pd.DataFrame(scaler.fit_transform(X),columns=column_names)\n",
        "\n",
        "# Splitting data into test and train sets \n",
        "X_train, X_test, y_train, y_test = train_test_split(X, y, test_size=0.2, random_state=0)\n",
        "\n",
        "# Creating an object for Linear Regression\n",
        "multi_reg = LinearRegression();\n",
        "multi_reg.fit(X_train, y_train)\n",
        "print(\"Co_effecient = \",multi_reg.coef_)\n",
        "print(\"Intercept = \",multi_reg.intercept_)"
      ],
      "execution_count": 0,
      "outputs": [
        {
          "output_type": "stream",
          "text": [
            "Co_effecient =  [ 830.24455568 -338.62302295 -390.9992857   152.02921227   95.58715217]\n",
            "Intercept =  375.1229399929727\n"
          ],
          "name": "stdout"
        }
      ]
    },
    {
      "cell_type": "code",
      "metadata": {
        "id": "rF9fwG7mw3hF",
        "colab_type": "code",
        "colab": {},
        "outputId": "34d772c2-b767-4273-80fc-3b9bef8ac6ca"
      },
      "source": [
        "# Checking Predictions\n",
        "y_pred = multi_reg.predict(X_test)\n",
        "\n",
        "# Calculating Errors and Score\n",
        "mse = mean_squared_error(multi_reg.predict(X_train),y_train)\n",
        "rmse = math.sqrt(mean_squared_error(multi_reg.predict(X),y))\n",
        "rse = (rmse**2)*X.shape[0];\n",
        "rse /= X.shape[0]-2\n",
        "r_square = r2_score(y_test,y_pred);\n",
        "\n",
        "# Displaying Errors and Score\n",
        "\n",
        "print('{:>10} {:>20} {:^35} {:^10} '.format(\"MSE\",\"RMSE\",\"RSE\",\"R SQUARE\"))\n",
        "\n",
        "print('{:<20}| {:>14}  | {:^22}| {:^22} '.format(mse,rmse,rse,r_square))\n"
      ],
      "execution_count": 0,
      "outputs": [
        {
          "output_type": "stream",
          "text": [
            "------------------------------------------------------------------------------------------\n",
            "       MSE                 RMSE                 RSE                  R SQUARE  \n",
            "------------------------------------------------------------------------------------------\n",
            "9839.820568747116   | 98.57942236920306  |   9844.933920065938   |   0.9069783944138913   \n",
            "------------------------------------------------------------------------------------------\n"
          ],
          "name": "stdout"
        }
      ]
    },
    {
      "cell_type": "markdown",
      "metadata": {
        "id": "IIe4eliFw3hI",
        "colab_type": "text"
      },
      "source": [
        "### Conclusion \n",
        "<br />\n",
        "As we can see the RSquare Score is 0.907. This modal fits 90.7% which means that the current modal is a good fit."
      ]
    }
  ]
}
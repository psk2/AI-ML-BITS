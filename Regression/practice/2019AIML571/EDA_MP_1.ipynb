{
 "cells": [
  {
   "cell_type": "markdown",
   "metadata": {},
   "source": [
    "# Mini Project : EDA"
   ]
  },
  {
   "cell_type": "code",
   "execution_count": 1,
   "metadata": {},
   "outputs": [],
   "source": [
    "import pandas as pd # pandas module for \"Data Manipulation\"\n",
    "import numpy as np # numpy module for \"linear Algebra\"\n",
    "import matplotlib.pyplot as plt # module for \"Plotting\"\n",
    "import seaborn as sns # second module for \"Plotting\"\n",
    "from scipy import stats # module for removing outliers from data.\n"
   ]
  },
  {
   "cell_type": "code",
   "execution_count": 4,
   "metadata": {},
   "outputs": [
    {
     "data": {
      "text/html": [
       "<div>\n",
       "<style scoped>\n",
       "    .dataframe tbody tr th:only-of-type {\n",
       "        vertical-align: middle;\n",
       "    }\n",
       "\n",
       "    .dataframe tbody tr th {\n",
       "        vertical-align: top;\n",
       "    }\n",
       "\n",
       "    .dataframe thead th {\n",
       "        text-align: right;\n",
       "    }\n",
       "</style>\n",
       "<table border=\"1\" class=\"dataframe\">\n",
       "  <thead>\n",
       "    <tr style=\"text-align: right;\">\n",
       "      <th></th>\n",
       "      <th>Cost</th>\n",
       "      <th>Weight</th>\n",
       "      <th>Weight1</th>\n",
       "      <th>Length</th>\n",
       "      <th>Height</th>\n",
       "      <th>Width</th>\n",
       "    </tr>\n",
       "  </thead>\n",
       "  <tbody>\n",
       "    <tr>\n",
       "      <th>0</th>\n",
       "      <td>242.0</td>\n",
       "      <td>23.2</td>\n",
       "      <td>25.4</td>\n",
       "      <td>30.0</td>\n",
       "      <td>11.5200</td>\n",
       "      <td>4.0200</td>\n",
       "    </tr>\n",
       "    <tr>\n",
       "      <th>1</th>\n",
       "      <td>290.0</td>\n",
       "      <td>24.0</td>\n",
       "      <td>26.3</td>\n",
       "      <td>31.2</td>\n",
       "      <td>12.4800</td>\n",
       "      <td>4.3056</td>\n",
       "    </tr>\n",
       "    <tr>\n",
       "      <th>2</th>\n",
       "      <td>340.0</td>\n",
       "      <td>23.9</td>\n",
       "      <td>26.5</td>\n",
       "      <td>31.1</td>\n",
       "      <td>12.3778</td>\n",
       "      <td>4.6961</td>\n",
       "    </tr>\n",
       "    <tr>\n",
       "      <th>3</th>\n",
       "      <td>363.0</td>\n",
       "      <td>26.3</td>\n",
       "      <td>29.0</td>\n",
       "      <td>33.5</td>\n",
       "      <td>12.7300</td>\n",
       "      <td>4.4555</td>\n",
       "    </tr>\n",
       "    <tr>\n",
       "      <th>4</th>\n",
       "      <td>430.0</td>\n",
       "      <td>26.5</td>\n",
       "      <td>29.0</td>\n",
       "      <td>34.0</td>\n",
       "      <td>12.4440</td>\n",
       "      <td>5.1340</td>\n",
       "    </tr>\n",
       "    <tr>\n",
       "      <th>...</th>\n",
       "      <td>...</td>\n",
       "      <td>...</td>\n",
       "      <td>...</td>\n",
       "      <td>...</td>\n",
       "      <td>...</td>\n",
       "      <td>...</td>\n",
       "    </tr>\n",
       "    <tr>\n",
       "      <th>154</th>\n",
       "      <td>12.2</td>\n",
       "      <td>11.5</td>\n",
       "      <td>12.2</td>\n",
       "      <td>13.4</td>\n",
       "      <td>2.0904</td>\n",
       "      <td>1.3936</td>\n",
       "    </tr>\n",
       "    <tr>\n",
       "      <th>155</th>\n",
       "      <td>13.4</td>\n",
       "      <td>11.7</td>\n",
       "      <td>12.4</td>\n",
       "      <td>13.5</td>\n",
       "      <td>2.4300</td>\n",
       "      <td>1.2690</td>\n",
       "    </tr>\n",
       "    <tr>\n",
       "      <th>156</th>\n",
       "      <td>12.2</td>\n",
       "      <td>12.1</td>\n",
       "      <td>13.0</td>\n",
       "      <td>13.8</td>\n",
       "      <td>2.2770</td>\n",
       "      <td>1.2558</td>\n",
       "    </tr>\n",
       "    <tr>\n",
       "      <th>157</th>\n",
       "      <td>19.7</td>\n",
       "      <td>13.2</td>\n",
       "      <td>14.3</td>\n",
       "      <td>15.2</td>\n",
       "      <td>2.8728</td>\n",
       "      <td>2.0672</td>\n",
       "    </tr>\n",
       "    <tr>\n",
       "      <th>158</th>\n",
       "      <td>19.9</td>\n",
       "      <td>13.8</td>\n",
       "      <td>15.0</td>\n",
       "      <td>16.2</td>\n",
       "      <td>2.9322</td>\n",
       "      <td>1.8792</td>\n",
       "    </tr>\n",
       "  </tbody>\n",
       "</table>\n",
       "<p>159 rows × 6 columns</p>\n",
       "</div>"
      ],
      "text/plain": [
       "      Cost  Weight  Weight1  Length   Height   Width\n",
       "0    242.0    23.2     25.4    30.0  11.5200  4.0200\n",
       "1    290.0    24.0     26.3    31.2  12.4800  4.3056\n",
       "2    340.0    23.9     26.5    31.1  12.3778  4.6961\n",
       "3    363.0    26.3     29.0    33.5  12.7300  4.4555\n",
       "4    430.0    26.5     29.0    34.0  12.4440  5.1340\n",
       "..     ...     ...      ...     ...      ...     ...\n",
       "154   12.2    11.5     12.2    13.4   2.0904  1.3936\n",
       "155   13.4    11.7     12.4    13.5   2.4300  1.2690\n",
       "156   12.2    12.1     13.0    13.8   2.2770  1.2558\n",
       "157   19.7    13.2     14.3    15.2   2.8728  2.0672\n",
       "158   19.9    13.8     15.0    16.2   2.9322  1.8792\n",
       "\n",
       "[159 rows x 6 columns]"
      ]
     },
     "execution_count": 4,
     "metadata": {},
     "output_type": "execute_result"
    }
   ],
   "source": [
    "# Importing Data into the pandas dataframe.\n",
    "df = pd.read_csv ('Data_miniproject.csv');\n",
    "\n",
    "# Checking the Shape of the Data provided\n",
    "df.shape\n",
    "df"
   ]
  },
  {
   "cell_type": "code",
   "execution_count": 5,
   "metadata": {},
   "outputs": [
    {
     "data": {
      "text/plain": [
       "Cost       False\n",
       "Weight      True\n",
       "Weight1     True\n",
       "Length      True\n",
       "Height      True\n",
       "Width       True\n",
       "dtype: bool"
      ]
     },
     "execution_count": 5,
     "metadata": {},
     "output_type": "execute_result"
    }
   ],
   "source": [
    "# Checking the Health of Data\n",
    "df.all()"
   ]
  },
  {
   "cell_type": "markdown",
   "metadata": {},
   "source": [
    "**Data of all Columns looks good except Cost column**\n",
    "<br/>\n",
    "**This indicates that there is some unusual data/ data type in Cost column**"
   ]
  },
  {
   "cell_type": "code",
   "execution_count": 6,
   "metadata": {},
   "outputs": [
    {
     "data": {
      "text/plain": [
       "False"
      ]
     },
     "execution_count": 6,
     "metadata": {},
     "output_type": "execute_result"
    }
   ],
   "source": [
    "# Checking for nulls.\n",
    "df.isnull().values.any()"
   ]
  },
  {
   "cell_type": "markdown",
   "metadata": {},
   "source": [
    "**There are no Null values**"
   ]
  },
  {
   "cell_type": "code",
   "execution_count": 7,
   "metadata": {},
   "outputs": [
    {
     "data": {
      "text/plain": [
       "False"
      ]
     },
     "execution_count": 7,
     "metadata": {},
     "output_type": "execute_result"
    }
   ],
   "source": [
    "df.isna().any(axis=None)"
   ]
  },
  {
   "cell_type": "markdown",
   "metadata": {},
   "source": [
    "**There are no NAN's in the data**\n",
    "<br/>\n",
    "**Now lets check for any  Zeros in \"Cost\" column and try and delete the Entry/ Data sample which has Zeros**"
   ]
  },
  {
   "cell_type": "code",
   "execution_count": 6,
   "metadata": {},
   "outputs": [
    {
     "data": {
      "text/html": [
       "<div>\n",
       "<style scoped>\n",
       "    .dataframe tbody tr th:only-of-type {\n",
       "        vertical-align: middle;\n",
       "    }\n",
       "\n",
       "    .dataframe tbody tr th {\n",
       "        vertical-align: top;\n",
       "    }\n",
       "\n",
       "    .dataframe thead th {\n",
       "        text-align: right;\n",
       "    }\n",
       "</style>\n",
       "<table border=\"1\" class=\"dataframe\">\n",
       "  <thead>\n",
       "    <tr style=\"text-align: right;\">\n",
       "      <th></th>\n",
       "      <th>Cost</th>\n",
       "      <th>Weight</th>\n",
       "      <th>Weight1</th>\n",
       "      <th>Length</th>\n",
       "      <th>Height</th>\n",
       "      <th>Width</th>\n",
       "    </tr>\n",
       "  </thead>\n",
       "  <tbody>\n",
       "    <tr>\n",
       "      <th>40</th>\n",
       "      <td>0.0</td>\n",
       "      <td>19.0</td>\n",
       "      <td>20.5</td>\n",
       "      <td>22.8</td>\n",
       "      <td>6.4752</td>\n",
       "      <td>3.3516</td>\n",
       "    </tr>\n",
       "  </tbody>\n",
       "</table>\n",
       "</div>"
      ],
      "text/plain": [
       "    Cost  Weight  Weight1  Length  Height   Width\n",
       "40   0.0    19.0     20.5    22.8  6.4752  3.3516"
      ]
     },
     "execution_count": 6,
     "metadata": {},
     "output_type": "execute_result"
    }
   ],
   "source": [
    "index = df[df.Cost == 0]\n",
    "index\n"
   ]
  },
  {
   "cell_type": "code",
   "execution_count": 11,
   "metadata": {},
   "outputs": [
    {
     "data": {
      "text/plain": [
       "Cost       True\n",
       "Weight     True\n",
       "Weight1    True\n",
       "Length     True\n",
       "Height     True\n",
       "Width      True\n",
       "dtype: bool"
      ]
     },
     "execution_count": 11,
     "metadata": {},
     "output_type": "execute_result"
    }
   ],
   "source": [
    "# Data in Row 40 has Cost = 0. We will remove that row to clean our data\n",
    "df = df[df.Cost != 0]\n",
    "\n",
    "# Checking the health of data again \n",
    "df.all()\n"
   ]
  },
  {
   "cell_type": "markdown",
   "metadata": {},
   "source": [
    "**Now the data is good to use without any null values, nan's, zeros as df.all() is true.**\n",
    "<br />\n",
    "**Now We shall draw Histograms for all the features using Seaborn library.**"
   ]
  },
  {
   "cell_type": "code",
   "execution_count": 12,
   "metadata": {},
   "outputs": [
    {
     "data": {
      "image/png": "[encoded data removed]",
      "text/plain": [
       "<Figure size 720x720 with 6 Axes>"
      ]
     },
     "metadata": {
      "needs_background": "light"
     },
     "output_type": "display_data"
    }
   ],
   "source": [
    "colors = ['c', 'b', 'r', 'g', 'm', 'y',]\n",
    "\n",
    "# Defining the layout of plots  into 3 rows and 2 columns with each plot size of 10x10 .\n",
    "# sharex=False represents that they don't share the common X axis.\n",
    "f, axes = plt.subplots(3, 2, figsize=(10, 10), sharex=False)\n",
    "for i, feature in enumerate(df.columns):\n",
    "    # displot takes first argument as column name to represent the graph\n",
    "    # color here is displayed using Array\n",
    "    # ax specifies the plot block where it needs to get rendered.\n",
    "    sns.distplot(df[feature] , color=colors[i], ax=axes[i%3, i//3])"
   ]
  },
  {
   "cell_type": "markdown",
   "metadata": {},
   "source": [
    "Histograms are visual representation of data and help give an estimate as to where values are concentrated, what are the extremes and whether there are any gaps or unusual values. They are also useful in giving a rough view of the probability distribution.\n",
    "Looking at the above Histograms, Max and Min Values, Preferred Values and their distribution can be casually understood.\n"
   ]
  },
  {
   "cell_type": "markdown",
   "metadata": {},
   "source": [
    "## Checking for Outliers"
   ]
  },
  {
   "cell_type": "code",
   "execution_count": 14,
   "metadata": {
    "scrolled": true
   },
   "outputs": [
    {
     "data": {
      "image/png": "[encoded data removed]",
      "text/plain": [
       "<Figure size 432x288 with 1 Axes>"
      ]
     },
     "metadata": {
      "needs_background": "light"
     },
     "output_type": "display_data"
    }
   ],
   "source": [
    "df.iloc[:, 1:].boxplot()\n",
    "plt.title(\"boxplot for each variable\", fontsize = \"xx-large\")\n",
    "plt.show()"
   ]
  },
  {
   "cell_type": "markdown",
   "metadata": {},
   "source": [
    "> Looking at the Above Graph , we clearly see that there are outliers in the data \n",
    "> Outliers are represented with small circles in the graph\n",
    "> In the next step, we remove these outliers and plot the graph"
   ]
  },
  {
   "cell_type": "markdown",
   "metadata": {},
   "source": [
    "> In most of the cases, a threshold of 3 or -3 is used i.e if the Z-score value is > or < 3 or -3 respectively, i.e -3 < Z > 3 those data point will be identified as outliers\n",
    "\n",
    "> We will use Z-score function defined in scipy library to detect the outliers"
   ]
  },
  {
   "cell_type": "code",
   "execution_count": 15,
   "metadata": {
    "scrolled": true
   },
   "outputs": [
    {
     "data": {
      "image/png": "[encoded data removed]",
      "text/plain": [
       "<Figure size 432x288 with 1 Axes>"
      ]
     },
     "metadata": {
      "needs_background": "light"
     },
     "output_type": "display_data"
    }
   ],
   "source": [
    "# Eliminating outliers using z-scores from Scipy Library.\n",
    "z_scores = stats.zscore(df)\n",
    "abs_z_scores = np.abs(z_scores)\n",
    "filtered_entries = (abs_z_scores < 3).all(axis=1)\n",
    "df = df[filtered_entries]\n",
    "\n",
    "df.iloc[:, 1:].boxplot()\n",
    "plt.title(\"boxplot for each variable\", fontsize = \"xx-large\")\n",
    "plt.show()"
   ]
  },
  {
   "cell_type": "code",
   "execution_count": 16,
   "metadata": {},
   "outputs": [
    {
     "data": {
      "text/plain": [
       "(155, 6)"
      ]
     },
     "execution_count": 16,
     "metadata": {},
     "output_type": "execute_result"
    }
   ],
   "source": [
    "df.shape"
   ]
  },
  {
   "cell_type": "markdown",
   "metadata": {},
   "source": [
    "> Now that the data is clear with minor outliers , we are good to go with this new data"
   ]
  },
  {
   "cell_type": "markdown",
   "metadata": {},
   "source": [
    "## Finding Correlation"
   ]
  },
  {
   "cell_type": "markdown",
   "metadata": {},
   "source": [
    "###### *Variables within a dataset can be related for lots of reasons.*\n",
    "\n",
    "For example:\n",
    "- One variable could be lightly associated with another variable.\n",
    "\n",
    "- One variable could cause or depend on the values of another variable.\n",
    "\n",
    "- Two variables could depend on a third known/ unknown variable.\n",
    "\n",
    "##### *It is extremely useful in data analysis and modeling to understand the relationships between variables. The statistical relationship between two variables is referred to as their correlation.*"
   ]
  },
  {
   "cell_type": "markdown",
   "metadata": {},
   "source": [
    "> We will now find the correlation between the variables using pandas' corr method"
   ]
  },
  {
   "cell_type": "code",
   "execution_count": 17,
   "metadata": {
    "scrolled": false
   },
   "outputs": [
    {
     "data": {
      "text/html": [
       "<div>\n",
       "<style scoped>\n",
       "    .dataframe tbody tr th:only-of-type {\n",
       "        vertical-align: middle;\n",
       "    }\n",
       "\n",
       "    .dataframe tbody tr th {\n",
       "        vertical-align: top;\n",
       "    }\n",
       "\n",
       "    .dataframe thead th {\n",
       "        text-align: right;\n",
       "    }\n",
       "</style>\n",
       "<table border=\"1\" class=\"dataframe\">\n",
       "  <thead>\n",
       "    <tr style=\"text-align: right;\">\n",
       "      <th></th>\n",
       "      <th>Cost</th>\n",
       "      <th>Weight</th>\n",
       "      <th>Weight1</th>\n",
       "      <th>Length</th>\n",
       "      <th>Height</th>\n",
       "      <th>Width</th>\n",
       "    </tr>\n",
       "  </thead>\n",
       "  <tbody>\n",
       "    <tr>\n",
       "      <th>Cost</th>\n",
       "      <td>1.000000</td>\n",
       "      <td>0.895740</td>\n",
       "      <td>0.899734</td>\n",
       "      <td>0.907373</td>\n",
       "      <td>0.801954</td>\n",
       "      <td>0.924029</td>\n",
       "    </tr>\n",
       "    <tr>\n",
       "      <th>Weight</th>\n",
       "      <td>0.895740</td>\n",
       "      <td>1.000000</td>\n",
       "      <td>0.999417</td>\n",
       "      <td>0.990580</td>\n",
       "      <td>0.675500</td>\n",
       "      <td>0.888883</td>\n",
       "    </tr>\n",
       "    <tr>\n",
       "      <th>Weight1</th>\n",
       "      <td>0.899734</td>\n",
       "      <td>0.999417</td>\n",
       "      <td>1.000000</td>\n",
       "      <td>0.993026</td>\n",
       "      <td>0.691166</td>\n",
       "      <td>0.895324</td>\n",
       "    </tr>\n",
       "    <tr>\n",
       "      <th>Length</th>\n",
       "      <td>0.907373</td>\n",
       "      <td>0.990580</td>\n",
       "      <td>0.993026</td>\n",
       "      <td>1.000000</td>\n",
       "      <td>0.755416</td>\n",
       "      <td>0.896793</td>\n",
       "    </tr>\n",
       "    <tr>\n",
       "      <th>Height</th>\n",
       "      <td>0.801954</td>\n",
       "      <td>0.675500</td>\n",
       "      <td>0.691166</td>\n",
       "      <td>0.755416</td>\n",
       "      <td>1.000000</td>\n",
       "      <td>0.800091</td>\n",
       "    </tr>\n",
       "    <tr>\n",
       "      <th>Width</th>\n",
       "      <td>0.924029</td>\n",
       "      <td>0.888883</td>\n",
       "      <td>0.895324</td>\n",
       "      <td>0.896793</td>\n",
       "      <td>0.800091</td>\n",
       "      <td>1.000000</td>\n",
       "    </tr>\n",
       "  </tbody>\n",
       "</table>\n",
       "</div>"
      ],
      "text/plain": [
       "             Cost    Weight   Weight1    Length    Height     Width\n",
       "Cost     1.000000  0.895740  0.899734  0.907373  0.801954  0.924029\n",
       "Weight   0.895740  1.000000  0.999417  0.990580  0.675500  0.888883\n",
       "Weight1  0.899734  0.999417  1.000000  0.993026  0.691166  0.895324\n",
       "Length   0.907373  0.990580  0.993026  1.000000  0.755416  0.896793\n",
       "Height   0.801954  0.675500  0.691166  0.755416  1.000000  0.800091\n",
       "Width    0.924029  0.888883  0.895324  0.896793  0.800091  1.000000"
      ]
     },
     "execution_count": 17,
     "metadata": {},
     "output_type": "execute_result"
    }
   ],
   "source": [
    "df.corr()"
   ]
  },
  {
   "cell_type": "markdown",
   "metadata": {},
   "source": [
    "**Notice how various variables are co related, the diagonal relation ship of variable with itself is always 1**\n",
    "<br/>\n",
    "**Now We will plot Heatmap for all the features using seaborn library.**"
   ]
  },
  {
   "cell_type": "code",
   "execution_count": 21,
   "metadata": {},
   "outputs": [
    {
     "data": {
      "image/png": "[encoded data removed]",
      "text/plain": [
       "<Figure size 576x864 with 2 Axes>"
      ]
     },
     "metadata": {
      "needs_background": "light"
     },
     "output_type": "display_data"
    }
   ],
   "source": [
    "# taking the number of columns in a dataframe\n",
    "n=df.shape[1]\n",
    "# Defining the plot size \n",
    "fig, axs = plt.subplots(figsize = (8, 12))\n",
    "# specifying some more attributes to adjust the heat map\n",
    "plt.subplots_adjust(left=0, bottom=0, right=1, top=1, wspace=0, hspace=0.2)\n",
    "plt.subplot(2, 1, 1)\n",
    "# correlation heatmap with annotation\n",
    "sns.heatmap(df.corr(), linewidths = 0.1, square = True, annot = True, cmap = \"YlGnBu\")\n",
    "plt.ylim(n, 0)\n",
    "plt.xlim(0, n)\n",
    "plt.title(\"Correlation Heatmap with Annotation\")\n",
    "plt.show()"
   ]
  },
  {
   "cell_type": "markdown",
   "metadata": {},
   "source": [
    "A correlation could be positive, meaning both variables move in the same direction, or negative, meaning that when one variable’s value increases, the other variables’ values decrease. Correlation can also be neutral or zero, meaning that the variables are unrelated.\n",
    "\n",
    "- Positive Correlation: Both variables change in the same direction. \n",
    "- Negative Correlation: Variables change in opposite directions.\n",
    "- Neutral Correlation: No relationship among the variables. "
   ]
  },
  {
   "cell_type": "markdown",
   "metadata": {},
   "source": [
    "Looking at the heatmap above, the following observations can be made wrt Cost which is the feature which we are interested in:\n",
    "\n",
    ". The relation between Cost and Height is 80%\n",
    ". The relation between Cost and Weight is 90%\n",
    ". The relation between Cost and Weight1 is 90%\n",
    ". The relation between Cost and Length is 91%\n",
    ". The relation between Cost and Width is 92%\n",
    "\n",
    "**Evaluation Criteria**<br />\n",
    "- +0.30. A weak uphill (positive) linear relationship\n",
    "- +0.50. A moderate uphill (positive) relationship\n",
    "- +0.70. A strong uphill (positive) linear relationship\n",
    "- Exactly +1. A perfect uphill (positive) linear relationship\n",
    "\n",
    "As from above heat map, all values are above +0.70 , hence almost every feature is in linear relationship to Cost (positively). Hence, we will consider all the featuers for implementation of the algorithms."
   ]
  }
 ],
 "metadata": {
  "kernelspec": {
   "display_name": "Python 3",
   "language": "python",
   "name": "python3"
  },
  "language_info": {
   "codemirror_mode": {
    "name": "ipython",
    "version": 3
   },
   "file_extension": ".py",
   "mimetype": "text/x-python",
   "name": "python",
   "nbconvert_exporter": "python",
   "pygments_lexer": "ipython3",
   "version": "3.6.9"
  }
 },
 "nbformat": 4,
 "nbformat_minor": 4
}

{
 "cells": [
  {
   "cell_type": "code",
   "execution_count": 1,
   "metadata": {},
   "outputs": [],
   "source": [
    "def cal_cost(theta,X,y):\n",
    "    m=len(y)\n",
    "    prediction = X.dot(theta)\n",
    "    cost = (1/2*m) * np.sum(np.square(prediction-y))\n",
    "    return cost\n",
    "    "
   ]
  },
  {
   "cell_type": "code",
   "execution_count": null,
   "metadata": {},
   "outputs": [],
   "source": [
    "def gradient_descent(X, y, theta, learning_rate=0.01,iterations=100):    m = len(y);\n",
    "    \n",
    "    m = len(y)\n",
    "    cost_history = np.zeros(iterations)\n",
    "    theta_history = np.zeros((iterations, 2))\n",
    "    for it in range(iterations):\n",
    "        prediction = np.dot(X,theta)\n",
    "        theta = theta - (1/m)*learning_rate*(X.T.dot((prediction - y)))\n",
    "        theta_history[it,:] = theta.T\n",
    "        cost_history[it] = cal_cost(theta,X,y) \n",
    "    return theta, cost_history, theta_history"
   ]
  }
 ],
 "metadata": {
  "kernelspec": {
   "display_name": "Python 3",
   "language": "python",
   "name": "python3"
  },
  "language_info": {
   "codemirror_mode": {
    "name": "ipython",
    "version": 3
   },
   "file_extension": ".py",
   "mimetype": "text/x-python",
   "name": "python",
   "nbconvert_exporter": "python",
   "pygments_lexer": "ipython3",
   "version": "3.6.9"
  }
 },
 "nbformat": 4,
 "nbformat_minor": 4
}

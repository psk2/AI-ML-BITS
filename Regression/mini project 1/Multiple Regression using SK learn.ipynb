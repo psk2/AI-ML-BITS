{
 "cells": [
  {
   "cell_type": "code",
   "execution_count": 9,
   "metadata": {},
   "outputs": [
    {
     "name": "stdout",
     "output_type": "stream",
     "text": [
      "Co_effecient =  [ 75.34625044  -4.34141654 -44.02992608  34.79565962  20.12146658]\n",
      "Intercept =  -483.5731091388342\n",
      "RMSE :  137.333455000949\n",
      "RSE :  19102.27886073483\n",
      "R Square Score :  0.8842510074394885\n"
     ]
    }
   ],
   "source": [
    "import pandas as pd\n",
    "import matplotlib.pyplot as plt\n",
    "import numpy as np\n",
    "import seaborn as sns \n",
    "from sklearn.model_selection import train_test_split \n",
    "from sklearn.linear_model import LinearRegression\n",
    "from sklearn.metrics import r2_score\n",
    "from sklearn.metrics import mean_squared_error\n",
    "\n",
    "from sklearn.utils import shuffle\n",
    "import math\n",
    "%matplotlib inline\n",
    "\n",
    "bags = pd.read_csv ('Data_miniproject.csv');\n",
    "bags = bags[bags.Cost != 0]\n",
    "# bags.values\n",
    "bags = shuffle(bags)\n",
    "bags\n",
    "X = bags.iloc[:,1:6]\n",
    "X = X.values\n",
    "y = bags.iloc[:,0]\n",
    "y=y.values\n",
    "# bags\n",
    "X_train, X_test, y_train, y_test = train_test_split(X, y, test_size=0.2, random_state=0)\n",
    "multi_reg = LinearRegression();\n",
    "multi_reg.fit(X_train, y_train)\n",
    "y_pred = multi_reg.predict(X_test)\n",
    "print(\"Co_effecient = \",multi_reg.coef_)\n",
    "print(\"Intercept = \",multi_reg.intercept_)\n",
    "rmse = math.sqrt(mean_squared_error(y_test,y_pred))\n",
    "rse = (rmse**2)*X.shape[0];\n",
    "rse /= X.shape[0]-2\n",
    "r_square = multi_reg.score(X,y);\n",
    "print(\"RMSE : \", rmse)\n",
    "print(\"RSE : \", rse)\n",
    "print(\"R Square Score : \",r_square)"
   ]
  },
  {
   "cell_type": "code",
   "execution_count": 6,
   "metadata": {},
   "outputs": [
    {
     "name": "stdout",
     "output_type": "stream",
     "text": [
      "Co_effecient =  [ 63.96945622  -9.10851306 -28.11886474  27.9262076   23.41231976]\n",
      "Intercept =  -496.80227301388163\n",
      "RMSE :  120.66333650673458\n",
      "RSE :  14746.302838180252\n",
      "R Square Score :  0.8854815220690124\n"
     ]
    }
   ],
   "source": [
    "multi_reg.fit(bags[['Weight', 'Weight1', 'Length', 'Height','Width']], bags['Cost'])\n",
    "print(\"Co_effecient = \",multi_reg.coef_)\n",
    "print(\"Intercept = \",multi_reg.intercept_)\n",
    "\n",
    "rmse = math.sqrt(mean_squared_error(multi_reg.predict(X),y))\n",
    "rse = (rmse**2)*X.shape[0];\n",
    "rse /= X.shape[0]-2\n",
    "r_square = multi_reg.score(X,y);\n",
    "print(\"RMSE : \", rmse)\n",
    "print(\"RSE : \", rse)\n",
    "print(\"R Square Score : \",r_square)\n"
   ]
  },
  {
   "cell_type": "code",
   "execution_count": 7,
   "metadata": {},
   "outputs": [
    {
     "name": "stdout",
     "output_type": "stream",
     "text": [
      "X_train.shape: (126, 5)\n",
      "y_train.shape: (126,)\n",
      "X_test.shape: (32, 5)\n",
      "y_test.shape: (32,)\n"
     ]
    }
   ],
   "source": [
    "print(\"X_train.shape:\",X_train.shape)\n",
    "print(\"y_train.shape:\",y_train.shape)\n",
    "print(\"X_test.shape:\",X_test.shape)\n",
    "print(\"y_test.shape:\",y_test.shape)"
   ]
  }
 ],
 "metadata": {
  "kernelspec": {
   "display_name": "Python 3",
   "language": "python",
   "name": "python3"
  },
  "language_info": {
   "codemirror_mode": {
    "name": "ipython",
    "version": 3
   },
   "file_extension": ".py",
   "mimetype": "text/x-python",
   "name": "python",
   "nbconvert_exporter": "python",
   "pygments_lexer": "ipython3",
   "version": "3.6.9"
  }
 },
 "nbformat": 4,
 "nbformat_minor": 4
}

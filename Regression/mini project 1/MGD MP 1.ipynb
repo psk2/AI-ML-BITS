{
 "cells": [
  {
   "cell_type": "code",
   "execution_count": 1,
   "metadata": {},
   "outputs": [],
   "source": [
    "import numpy as np # numpy module for linear algebra\n",
    "import pandas as pd # pandas module for data manipulation\n",
    "import matplotlib.pyplot as plt # module for plotting\n",
    "from sklearn.model_selection import train_test_split #Splitting data into test and train sets\n",
    "from sklearn.metrics import r2_score #for calculating r_square value\n",
    "from sklearn.metrics import mean_squared_error #as the name says, to find the mean squared error value\n",
    "from sklearn.preprocessing import StandardScaler # used to scale the data\n",
    "import math #For computing math functions\n",
    "import time # time library to get time\n",
    "from IPython.display import Markdown as md #For displaying results in md\n",
    "from scipy import stats # module For removing outliers in this program.\n",
    "\n",
    "%matplotlib inline"
   ]
  },
  {
   "cell_type": "code",
   "execution_count": 2,
   "metadata": {},
   "outputs": [],
   "source": [
    "# This function gives you the executions time of your algorithm\n",
    "def timeit(method):\n",
    "    def timed(*args, **kw):\n",
    "        ts = time.time()\n",
    "        result = method(*args, **kw)\n",
    "        te = time.time()\n",
    "        if 'log_time' in kw:\n",
    "            name = kw.get('log_name', method.__name__.upper())\n",
    "            kw['log_time'][name] = int((te - ts) * 1000)\n",
    "        else:\n",
    "            print('%r  %2.2f ms' % \\\n",
    "                  (method.__name__, (te - ts) * 1000))\n",
    "        return result\n",
    "    return timed"
   ]
  },
  {
   "cell_type": "code",
   "execution_count": 3,
   "metadata": {},
   "outputs": [],
   "source": [
    "# import csv file using pandas\n",
    "bags = pd.read_csv ('Data_miniproject.csv');\n",
    "# remove cost feature 0 valued rows \n",
    "bags = bags[bags.Cost != 0]\n",
    "\n",
    "\n",
    "# We are gonna eliminate outliers using z-scores from Scipy library.\n",
    "z_scores = stats.zscore(bags)\n",
    "abs_z_scores = np.abs(z_scores)\n",
    "filtered_entries = (abs_z_scores < 3).all(axis=1)\n",
    "bags = bags[filtered_entries]\n",
    "\n",
    "\n",
    "# Taking  dependent variables as X and independent variable(COST) as y\n",
    "X = bags.iloc[:,1:6]\n",
    "y = bags.iloc[:,0].values\n",
    "\n",
    "# Scaling the Data so that computations will be much faster and also easily understood by machine while computing\n",
    "column_names = X.columns\n",
    "scaler = StandardScaler()\n",
    "X = pd.DataFrame(scaler.fit_transform(X),columns=column_names)\n",
    "\n",
    "# Splitting data into test and train sets \n",
    "X_train, X_test, y_train, y_test = train_test_split(X, y, test_size=0.2, random_state=0)\n"
   ]
  },
  {
   "cell_type": "code",
   "execution_count": 4,
   "metadata": {},
   "outputs": [],
   "source": [
    "# calculating the cost \n",
    "def cal_cost(theta,X,y):\n",
    "    m = len(y)\n",
    "    predictions = X.dot(theta)\n",
    "    # calculating the cost using the formula\n",
    "    cost = (1/2*m) * np.sum(np.square(predictions-y))\n",
    "    return cost"
   ]
  },
  {
   "cell_type": "code",
   "execution_count": 5,
   "metadata": {},
   "outputs": [],
   "source": [
    "# mini-batch algorithm coded in python\n",
    "@timeit\n",
    "def minibatch_gradient_descent(X,y,theta,learning_rate=0.01, iterations=10, batch_size =20):\n",
    "    m = len(y)\n",
    "    cost_history = np.zeros(iterations)\n",
    "    n_batches = int(m/batch_size)\n",
    "    for it in range(iterations):\n",
    "        cost =0.0\n",
    "        indices = np.random.permutation(m)\n",
    "        X = X[indices]\n",
    "        y = y[indices]\n",
    "        for i in range(0,m,batch_size):\n",
    "            X_i = X[i:i+batch_size]\n",
    "            y_i = y[i:i+batch_size]\n",
    "            prediction = np.dot(X_i,theta)\n",
    "            theta = theta -(1/m)*learning_rate*( X_i.T.dot((prediction - y_i)))\n",
    "            cost += cal_cost(theta,X_i,y_i)\n",
    "        cost_history[it]  = cost          \n",
    "    return theta, cost_history"
   ]
  },
  {
   "cell_type": "code",
   "execution_count": 6,
   "metadata": {},
   "outputs": [
    {
     "name": "stdout",
     "output_type": "stream",
     "text": [
      "'minibatch_gradient_descent'  2338.35 ms\n",
      "theta : [374.85673074  55.45659766  50.91482535  35.07979595  66.96897685\n",
      " 118.29414973]\n"
     ]
    }
   ],
   "source": [
    "learning_rate = 0.001\n",
    "iterations = 10000\n",
    "\n",
    "# If the features are n, then parameters should be n+1\n",
    "# initializing theta to zero vector with n features + 1. +1 is added to calculate Wo.\n",
    "theta = np.zeros(X_train.shape[1]+1)\n",
    "\n",
    "# Concating a identity matrix of size (length of X_train,1) to X_train. so now we'll have an extra column to find Wo.\n",
    "X_build = np.c_[np.ones((len(X_train), 1)), X_train]\n",
    "\n",
    "# Calling the MGD algorithm to get theta and cost which says about converging. \n",
    "theta,cost_history = minibatch_gradient_descent(X_build,y_train,theta,learning_rate,iterations)\n",
    "\n",
    "print(\"theta :\",theta)\n",
    "\n",
    "# Estimating the Modal\n",
    "X_build1 = np.c_[np.ones((len(X_test), 1)), X_test]\n",
    "predictions = X_build1.dot(theta)\n",
    "y_pred_mgd = list(predictions)\n",
    "\n"
   ]
  },
  {
   "cell_type": "code",
   "execution_count": 7,
   "metadata": {
    "scrolled": true
   },
   "outputs": [
    {
     "data": {
      "text/plain": [
       "Text(0, 0.5, 'Cost')"
      ]
     },
     "execution_count": 7,
     "metadata": {},
     "output_type": "execute_result"
    },
    {
     "data": {
      "image/png": "[encoded data removed]",
      "text/plain": [
       "<Figure size 432x288 with 1 Axes>"
      ]
     },
     "metadata": {
      "needs_background": "light"
     },
     "output_type": "display_data"
    }
   ],
   "source": [
    "# Plotting the graph to check convergence.\n",
    "n_iterations = [x for x in range(1,iterations+1)]\n",
    "cost = list(cost_history)\n",
    "plt.plot(n_iterations, cost)\n",
    "plt.xlabel('No. of iterations')\n",
    "plt.ylabel('Cost')"
   ]
  },
  {
   "cell_type": "markdown",
   "metadata": {},
   "source": [
    "Here looking at the graph above, it started converging at around 5000 iterations only with learning_rate of 0.001"
   ]
  },
  {
   "cell_type": "code",
   "execution_count": 8,
   "metadata": {
    "scrolled": true
   },
   "outputs": [
    {
     "name": "stdout",
     "output_type": "stream",
     "text": [
      "------------------------------------------------------------------------------------------\n",
      "       MSE                 RMSE                 RSE                  R SQUARE  \n",
      "------------------------------------------------------------------------------------------\n",
      "10299.858146748293  | 101.48821678770543 |   11010.193191351624  |   0.896198760901734    \n",
      "------------------------------------------------------------------------------------------\n"
     ]
    }
   ],
   "source": [
    "\n",
    "# Calculating Errors\n",
    "mgd_mse = mean_squared_error(y_test,y_pred_mgd)\n",
    "mgd_rmse = math.sqrt(mgd_mse)\n",
    "mgd_rse = (mgd_rmse**2)*X_build1.shape[0]\n",
    "mgd_rse /= X_build1.shape[0]-2\n",
    "mgd_r2 = r2_score(y_test, y_pred_mgd, sample_weight=None, multioutput='uniform_average')\n",
    "\n",
    "# Displaying Errors and score\n",
    "dash = '-' * 90\n",
    "print(dash)\n",
    "print('{:>10} {:>20} {:^35} {:^10} '.format(\"MSE\",\"RMSE\",\"RSE\",\"R SQUARE\"))\n",
    "print(dash)\n",
    "print('{:<20}| {:>14} | {:^22}| {:^22} '.format(mgd_mse,mgd_rmse,mgd_rse,mgd_r2))\n",
    "print(dash)"
   ]
  },
  {
   "cell_type": "markdown",
   "metadata": {},
   "source": [
    "### Conclusion <br />"
   ]
  },
  {
   "cell_type": "code",
   "execution_count": 10,
   "metadata": {},
   "outputs": [
    {
     "data": {
      "text/markdown": [
       "*As we can see the RSquare Score is **0.896198760901734**. Saying that,this modal fits **89%** which shows that the current modal is a good fit.*"
      ],
      "text/plain": [
       "<IPython.core.display.Markdown object>"
      ]
     },
     "execution_count": 10,
     "metadata": {},
     "output_type": "execute_result"
    }
   ],
   "source": [
    "md(\"*As we can see the RSquare Score is **{}**. Saying that,this modal fits **{}%** which shows that the current modal is a good fit.*\".format(mgd_r2, math.floor(mgd_r2*100)))"
   ]
  }
 ],
 "metadata": {
  "kernelspec": {
   "display_name": "Python 3",
   "language": "python",
   "name": "python3"
  },
  "language_info": {
   "codemirror_mode": {
    "name": "ipython",
    "version": 3
   },
   "file_extension": ".py",
   "mimetype": "text/x-python",
   "name": "python",
   "nbconvert_exporter": "python",
   "pygments_lexer": "ipython3",
   "version": "3.6.9"
  }
 },
 "nbformat": 4,
 "nbformat_minor": 4
}

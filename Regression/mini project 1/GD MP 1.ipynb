{
 "cells": [
  {
   "cell_type": "code",
   "execution_count": 1,
   "metadata": {},
   "outputs": [],
   "source": [
    "import pandas as pd\n",
    "import matplotlib.pyplot as plt\n",
    "import numpy as np\n",
    "import seaborn as sns \n",
    "from sklearn.model_selection import train_test_split \n",
    "from sklearn.linear_model import LinearRegression\n",
    "from sklearn.metrics import r2_score\n",
    "from sklearn.metrics import mean_squared_error\n",
    "from matplotlib import pyplot\n",
    "from mpl_toolkits.mplot3d import Axes3D\n",
    "from sklearn.utils import shuffle\n",
    "import math\n",
    "from sklearn.preprocessing import StandardScaler\n",
    "from IPython.display import Markdown as md #For displaying results in md\n",
    "from scipy import stats # module For removing outliers in this program.\n",
    "%matplotlib inline"
   ]
  },
  {
   "cell_type": "code",
   "execution_count": 2,
   "metadata": {},
   "outputs": [],
   "source": [
    "# import csv file using pandas\n",
    "bags = pd.read_csv ('Data_miniproject.csv');\n",
    "\n",
    "# remove cost feature 0 valued rows \n",
    "bags = bags[bags.Cost != 0]\n",
    "\n",
    "# We are gonna eliminate outliers using z-scores from Scipy library.\n",
    "z_scores = stats.zscore(bags)\n",
    "abs_z_scores = np.abs(z_scores)\n",
    "filtered_entries = (abs_z_scores < 3).all(axis=1)\n",
    "bags = bags[filtered_entries]\n",
    "\n",
    "# Taking  dependent variables as X and independent variable(COST) as y\n",
    "X = bags.iloc[:,1:6]\n",
    "y = bags.iloc[:,0].values\n",
    "\n",
    "# Scaling the Data so that computations will be much faster and also easily understood by machine while computing\n",
    "column_names = X.columns\n",
    "scaler = StandardScaler()\n",
    "X = pd.DataFrame(scaler.fit_transform(X),columns=column_names)\n",
    "\n",
    "# Splitting data into test and train sets \n",
    "X_train, X_test, y_train, y_test = train_test_split(X, y, test_size=0.2, random_state=0)"
   ]
  },
  {
   "cell_type": "code",
   "execution_count": 3,
   "metadata": {},
   "outputs": [],
   "source": [
    "# Calculating Hypotheses which is nothing but prediction of next value along the curve\n",
    "def hypothesis(theta, X, n):\n",
    "    h = np.ones((X.shape[0],1))\n",
    "    theta = theta.reshape(1,n+1)\n",
    "    for i in range(0,X.shape[0]):\n",
    "        h[i] = float(np.matmul(theta, X[i]))\n",
    "    h = h.reshape(X.shape[0])\n",
    "    return h\n",
    "\n",
    "# Gradien descent algorithm using python code.\n",
    "def BGD(theta, alpha, num_iters, h, X, y, n):\n",
    "    cost = np.ones(num_iters)\n",
    "    for i in range(0,num_iters):\n",
    "        theta[0] = theta[0] - (alpha/X.shape[0]) * sum(h - y)\n",
    "        for j in range(1,n+1):\n",
    "            theta[j] = theta[j] - (alpha/X.shape[0]) * sum((h-y) * X.transpose()[j])\n",
    "        h = hypothesis(theta, X, n)\n",
    "        cost[i] = (1/X.shape[0]) * 0.5 * sum(np.square(h - y))\n",
    "    theta = theta.reshape(1,n+1)\n",
    "    return theta, cost\n",
    "\n",
    "# Linear Regression function that calls GD algo and returns theta and Cost Values.\n",
    "def linear_regression(X, y, alpha, num_iters):\n",
    "    n = X.shape[1]\n",
    "    # Concating a identity matrix of size (length of X,1) to X. so now we'll have an extra column to find Wo.\n",
    "    one_column = np.ones((X.shape[0],1))\n",
    "    X = np.concatenate((one_column, X), axis = 1)\n",
    "    # initializing the parameter vector...\n",
    "    theta = np.zeros(n+1)\n",
    "    # hypothesis calculation....\n",
    "    h = hypothesis(theta, X, n)\n",
    "    # returning the optimized parameters by Gradient Descent...\n",
    "    theta, cost = BGD(theta,alpha,num_iters,h,X,y,n)\n",
    "    return theta, cost"
   ]
  },
  {
   "cell_type": "code",
   "execution_count": 4,
   "metadata": {},
   "outputs": [
    {
     "name": "stdout",
     "output_type": "stream",
     "text": [
      "theta :  [[374.85639952  55.45289323  50.91138303  35.07391986  66.96629883\n",
      "  118.31057325]]\n"
     ]
    },
    {
     "data": {
      "text/plain": [
       "Text(0, 0.5, 'Cost')"
      ]
     },
     "execution_count": 4,
     "metadata": {},
     "output_type": "execute_result"
    }
   ],
   "source": [
    "iterations = 1000\n",
    "\n",
    "# Calling the GD algorithm to get theta and cost which says about converging. \n",
    "theta, cost = linear_regression(X_train, y_train, 0.01, iterations)\n",
    "print(\"theta : \",theta)\n",
    "\n",
    "# Estimating the Modal\n",
    "\n",
    "X_build = np.concatenate((np.ones((X_test.shape[0],1)), X_test),axis = 1)       \n",
    "predictions = hypothesis(theta, X_build, X_build.shape[1] - 1)\n",
    "y_pred_gd = list(predictions)\n",
    "\n",
    "# Now we'll see whether the convergence occured or not?\n",
    "n_iterations = [x for x in range(1,iterations+1)]\n",
    "cost = list(cost)\n",
    "plt.plot(n_iterations, cost)\n",
    "plt.xlabel('No. of iterations')\n",
    "plt.ylabel('Cost')\n"
   ]
  },
  {
   "cell_type": "code",
   "execution_count": 5,
   "metadata": {
    "scrolled": true
   },
   "outputs": [
    {
     "name": "stdout",
     "output_type": "stream",
     "text": [
      "------------------------------------------------------------------------------------------\n",
      "       MSE                 RMSE                 RSE                  R SQUARE  \n",
      "------------------------------------------------------------------------------------------\n",
      "10299.920391794458  | 101.48852344868585 |   10468.771545758302  |   0.8961981336005783   \n",
      "------------------------------------------------------------------------------------------\n"
     ]
    },
    {
     "data": {
      "image/png": "[encoded data removed]",
      "text/plain": [
       "<Figure size 432x288 with 1 Axes>"
      ]
     },
     "metadata": {
      "needs_background": "light"
     },
     "output_type": "display_data"
    }
   ],
   "source": [
    "\n",
    "# Calculating Errors\n",
    "gd_mse = mean_squared_error(y_test,y_pred_gd)\n",
    "gd_rmse = math.sqrt(gd_mse)\n",
    "gd_rse = (gd_rmse**2)*X_train.shape[0]\n",
    "gd_rse /= X_train.shape[0]-2\n",
    "gd_r2 = r2_score(y_test, y_pred_gd, sample_weight=None, multioutput='uniform_average')\n",
    "\n",
    "# Displaying Errors and score\n",
    "dash = '-' * 90\n",
    "print(dash)\n",
    "print('{:>10} {:>20} {:^35} {:^10} '.format(\"MSE\",\"RMSE\",\"RSE\",\"R SQUARE\"))\n",
    "print(dash)\n",
    "print('{:<20}| {:>14} | {:^22}| {:^22} '.format(gd_mse,gd_rmse,gd_rse,gd_r2))\n",
    "print(dash)\n"
   ]
  },
  {
   "cell_type": "markdown",
   "metadata": {},
   "source": [
    "### Conclusion <br />"
   ]
  },
  {
   "cell_type": "code",
   "execution_count": 6,
   "metadata": {},
   "outputs": [
    {
     "data": {
      "text/markdown": [
       "*As we can see the RSquare Score is **0.8961981336005783**. Saying that,this modal fits **89%** which shows that the current modal is a good fit.*"
      ],
      "text/plain": [
       "<IPython.core.display.Markdown object>"
      ]
     },
     "execution_count": 6,
     "metadata": {},
     "output_type": "execute_result"
    }
   ],
   "source": [
    "md(\"*As we can see the RSquare Score is **{}**. Saying that,this modal fits **{}%** which shows that the current modal is a good fit.*\".format(gd_r2, math.floor(gd_r2*100)))"
   ]
  }
 ],
 "metadata": {
  "kernelspec": {
   "display_name": "Python 3",
   "language": "python",
   "name": "python3"
  },
  "language_info": {
   "codemirror_mode": {
    "name": "ipython",
    "version": 3
   },
   "file_extension": ".py",
   "mimetype": "text/x-python",
   "name": "python",
   "nbconvert_exporter": "python",
   "pygments_lexer": "ipython3",
   "version": "3.8.4rc1"
  }
 },
 "nbformat": 4,
 "nbformat_minor": 4
}

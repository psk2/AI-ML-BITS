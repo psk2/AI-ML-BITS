{
 "cells": [
  {
   "cell_type": "code",
   "execution_count": 1,
   "metadata": {},
   "outputs": [],
   "source": [
    "import numpy as np # numpy module for linear algebra\n",
    "import pandas as pd # pandas module for data manipulation\n",
    "import matplotlib.pyplot as plt # module for plotting\n",
    "from sklearn.model_selection import train_test_split #Splitting data into test and train sets\n",
    "from sklearn.metrics import r2_score #for calculating r_square value\n",
    "from sklearn.metrics import mean_squared_error #as the name says, to find the mean squared error value\n",
    "from sklearn.preprocessing import StandardScaler # used to scale the data\n",
    "import math #For computing math functions\n",
    "import time # time library to get time\n",
    "from sklearn.linear_model import LinearRegression # Linear Regression from Sklearn Library to solve Normal Eq.\n",
    "from sklearn.metrics import r2_score # for checking R Square\n",
    "from IPython.display import Markdown as md #For displaying results in md\n",
    "import seaborn as sns # another module for plotting\n",
    "from scipy import stats # module For removing outliers in this program.\n",
    "%matplotlib inline"
   ]
  },
  {
   "cell_type": "code",
   "execution_count": 2,
   "metadata": {},
   "outputs": [
    {
     "name": "stdout",
     "output_type": "stream",
     "text": [
      "Co_effecient =  [1103.27785624 -616.64828118 -394.08174425  154.63562758   93.10563658]\n",
      "Intercept =  374.7351754221231\n"
     ]
    }
   ],
   "source": [
    "# import csv file using pandas\n",
    "bags = pd.read_csv ('Data_miniproject.csv');\n",
    "# remove cost feature 0 valued rows \n",
    "bags = bags[bags.Cost != 0]\n",
    "\n",
    "\n",
    "# We are gonna eliminate outliers using z-scores from Scipy library.\n",
    "z_scores = stats.zscore(bags)\n",
    "abs_z_scores = np.abs(z_scores)\n",
    "filtered_entries = (abs_z_scores < 3).all(axis=1)\n",
    "bags = bags[filtered_entries]\n",
    "\n",
    "\n",
    "# Taking  dependent variables as X and independent variable(COST) as y\n",
    "y = bags.pop('Cost');\n",
    "X = bags.copy()\n",
    "\n",
    "# Scaling the Data so that computations will be much faster and also easily understood by machine while computing\n",
    "column_names = X.columns\n",
    "scaler = StandardScaler()\n",
    "X = pd.DataFrame(scaler.fit_transform(X),columns=column_names)\n",
    "\n",
    "# Splitting data into test and train sets \n",
    "X_train, X_test, y_train, y_test = train_test_split(X, y, test_size=0.2, random_state=42)\n",
    "\n",
    "# creating an object for Linear Regression\n",
    "multi_reg = LinearRegression();\n",
    "multi_reg.fit(X_train, y_train)\n",
    "print(\"Co_effecient = \",multi_reg.coef_)\n",
    "print(\"Intercept = \",multi_reg.intercept_)"
   ]
  },
  {
   "cell_type": "code",
   "execution_count": 3,
   "metadata": {
    "scrolled": true
   },
   "outputs": [
    {
     "name": "stdout",
     "output_type": "stream",
     "text": [
      "------------------------------------------------------------------------------------------\n",
      "       MSE                 RMSE                 RSE                  R SQUARE  \n",
      "------------------------------------------------------------------------------------------\n",
      "10128.745722207123  | 98.46496901311535  |   9822.086725665578   |   0.9287609516086526   \n",
      "------------------------------------------------------------------------------------------\n"
     ]
    }
   ],
   "source": [
    "# checking predictions\n",
    "y_pred = multi_reg.predict(X_test)\n",
    "\n",
    "# Calculating Errors and score\n",
    "mse = mean_squared_error(multi_reg.predict(X_train),y_train)\n",
    "rmse = math.sqrt(mean_squared_error(multi_reg.predict(X),y))\n",
    "rse = (rmse**2)*X.shape[0];\n",
    "rse /= X.shape[0]-2\n",
    "r_square = r2_score(y_test,y_pred);\n",
    "r2percent = format(r_square,\".0%\")\n",
    "\n",
    "# Displaying Errors and score\n",
    "dash = '-' * 90\n",
    "print(dash)\n",
    "print('{:>10} {:>20} {:^35} {:^10} '.format(\"MSE\",\"RMSE\",\"RSE\",\"R SQUARE\"))\n",
    "print(dash)\n",
    "print('{:<20}| {:>14}  | {:^22}| {:^22} '.format(mse,rmse,rse,r_square))\n",
    "print(dash)"
   ]
  },
  {
   "cell_type": "markdown",
   "metadata": {},
   "source": [
    "### Conclusion  - Multiple Linear Regression <br />"
   ]
  },
  {
   "cell_type": "code",
   "execution_count": 4,
   "metadata": {},
   "outputs": [
    {
     "data": {
      "text/markdown": [
       "*As we can see the RSquare Score is **0.9287609516086526**. Saying that,this modal fits **93%** which shows that the current modal is a good fit.*"
      ],
      "text/plain": [
       "<IPython.core.display.Markdown object>"
      ]
     },
     "execution_count": 4,
     "metadata": {},
     "output_type": "execute_result"
    }
   ],
   "source": [
    "md(\"*As we can see the RSquare Score is **{}**. Saying that,this modal fits **{}** which shows that the current modal is a good fit.*\".format(r_square, r2percent))"
   ]
  },
  {
   "cell_type": "code",
   "execution_count": null,
   "metadata": {},
   "outputs": [],
   "source": []
  }
 ],
 "metadata": {
  "kernelspec": {
   "display_name": "Python 3",
   "language": "python",
   "name": "python3"
  },
  "language_info": {
   "codemirror_mode": {
    "name": "ipython",
    "version": 3
   },
   "file_extension": ".py",
   "mimetype": "text/x-python",
   "name": "python",
   "nbconvert_exporter": "python",
   "pygments_lexer": "ipython3",
   "version": "3.6.9"
  }
 },
 "nbformat": 4,
 "nbformat_minor": 4
}

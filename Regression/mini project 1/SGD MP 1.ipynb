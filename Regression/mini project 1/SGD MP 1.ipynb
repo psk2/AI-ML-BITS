{
 "cells": [
  {
   "cell_type": "code",
   "execution_count": 1,
   "metadata": {},
   "outputs": [],
   "source": [
    "import numpy as np # numpy module for linear algebra\n",
    "import pandas as pd # pandas module for data manipulation\n",
    "import matplotlib.pyplot as plt # module for plotting\n",
    "from sklearn.model_selection import train_test_split #Splitting data into test and train sets\n",
    "from sklearn.metrics import mean_squared_error #as the name says, to find the mean squared error value\n",
    "from sklearn.preprocessing import StandardScaler # used to scale the data\n",
    "import math #For computing math functions\n",
    "from sklearn.linear_model import SGDRegressor # Regress for Stochastic Gradient Descent algo\n",
    "from IPython.display import Markdown as md #For displaying results in md\n",
    "from scipy import stats # module For removing outliers in this program.\n"
   ]
  },
  {
   "cell_type": "code",
   "execution_count": 2,
   "metadata": {},
   "outputs": [],
   "source": [
    "# import csv file using pandas\n",
    "df = pd.read_csv ('Data_miniproject.csv');\n",
    "# remove cost feature 0 valued rows \n",
    "df = df[df.Cost != 0]\n",
    "\n",
    "# We are gonna eliminate outliers using z-scores from Scipy library.\n",
    "z_scores = stats.zscore(df)\n",
    "abs_z_scores = np.abs(z_scores)\n",
    "filtered_entries = (abs_z_scores < 3).all(axis=1)\n",
    "df = df[filtered_entries]\n",
    "\n",
    "# Taking  dependent variables as X and independent variable(COST) as y\n",
    "y = df.pop('Cost');\n",
    "X = df.copy()\n",
    "\n",
    "# Scaling the Data so that computations will be much faster and also easily understood by machine while computing\n",
    "column_names = X.columns\n",
    "scaler = StandardScaler()\n",
    "X = pd.DataFrame(scaler.fit_transform(X),columns=column_names)"
   ]
  },
  {
   "cell_type": "code",
   "execution_count": 3,
   "metadata": {},
   "outputs": [
    {
     "data": {
      "text/plain": [
       "SGDRegressor(alpha=0.0001, average=False, early_stopping=False, epsilon=0.1,\n",
       "             eta0=0.001, fit_intercept=True, l1_ratio=0.15,\n",
       "             learning_rate='invscaling', loss='squared_loss', max_iter=10000,\n",
       "             n_iter_no_change=5, penalty='l2', power_t=0.25, random_state=None,\n",
       "             shuffle=True, tol=0.001, validation_fraction=0.1, verbose=0,\n",
       "             warm_start=False)"
      ]
     },
     "execution_count": 3,
     "metadata": {},
     "output_type": "execute_result"
    }
   ],
   "source": [
    "# Fitting the data using SGDRegressor\n",
    "sgd_reg = SGDRegressor(max_iter=10_000,tol=0.001,eta0=1e-3)\n",
    "sgd_reg.fit(X,y)"
   ]
  },
  {
   "cell_type": "code",
   "execution_count": 4,
   "metadata": {},
   "outputs": [
    {
     "name": "stdout",
     "output_type": "stream",
     "text": [
      "------------------------------------------------------------------------------------------\n",
      "Co_effecient =  [ 59.96045947  47.83980657  17.93051789  64.10710167 129.89144565]\n",
      "Intercept =  [377.64696749]\n",
      "------------------------------------------------------------------------------------------\n",
      "       MSE                 RMSE                 RSE                  R SQUARE  \n",
      "------------------------------------------------------------------------------------------\n",
      "10615.75346467064   | 103.03277859337115 |   10754.521483816663  |   0.8950972090263911   \n",
      "------------------------------------------------------------------------------------------\n"
     ]
    }
   ],
   "source": [
    "# Estimating the Modal\n",
    "dash = '-' * 90\n",
    "print(dash)\n",
    "print(\"Co_effecient = \",sgd_reg.coef_)\n",
    "print(\"Intercept = \",sgd_reg.intercept_)\n",
    "\n",
    "# Calculating Errors\n",
    "sgd_mse = mean_squared_error(sgd_reg.predict(X),y)\n",
    "sgd_rmse = math.sqrt(sgd_mse)\n",
    "sgd_rse = (sgd_rmse**2)*X.shape[0];\n",
    "sgd_rse /= X.shape[0]-2\n",
    "sgd_rSquare = sgd_reg.score(X,y);\n",
    "\n",
    "# Displaying Errors and score\n",
    "print(dash)\n",
    "print('{:>10} {:>20} {:^35} {:^10} '.format(\"MSE\",\"RMSE\",\"RSE\",\"R SQUARE\"))\n",
    "print(dash)\n",
    "print('{:<20}| {:>14} | {:^22}| {:^22} '.format(sgd_mse,sgd_rmse,sgd_rse,sgd_rSquare))\n",
    "print(dash)"
   ]
  },
  {
   "cell_type": "markdown",
   "metadata": {},
   "source": [
    "### Conclusion <br />"
   ]
  },
  {
   "cell_type": "code",
   "execution_count": 6,
   "metadata": {},
   "outputs": [
    {
     "data": {
      "text/markdown": [
       "*As we can see the RSquare Score is **0.8950972090263911**. Saying that,this modal fits **89%** which shows that the current modal is a good fit.*"
      ],
      "text/plain": [
       "<IPython.core.display.Markdown object>"
      ]
     },
     "execution_count": 6,
     "metadata": {},
     "output_type": "execute_result"
    }
   ],
   "source": [
    "md(\"*As we can see the RSquare Score is **{}**. Saying that,this modal fits **{}%** which shows that the current modal is a good fit.*\".format(sgd_rSquare, math.floor(sgd_rSquare*100)))"
   ]
  }
 ],
 "metadata": {
  "kernelspec": {
   "display_name": "Python 3",
   "language": "python",
   "name": "python3"
  },
  "language_info": {
   "codemirror_mode": {
    "name": "ipython",
    "version": 3
   },
   "file_extension": ".py",
   "mimetype": "text/x-python",
   "name": "python",
   "nbconvert_exporter": "python",
   "pygments_lexer": "ipython3",
   "version": "3.6.9"
  }
 },
 "nbformat": 4,
 "nbformat_minor": 4
}
